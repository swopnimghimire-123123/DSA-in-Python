{
  "nbformat": 4,
  "nbformat_minor": 0,
  "metadata": {
    "colab": {
      "provenance": [],
      "authorship_tag": "ABX9TyOwe4xOte02ZBRvmoTaQSEZ",
      "include_colab_link": true
    },
    "kernelspec": {
      "name": "python3",
      "display_name": "Python 3"
    },
    "language_info": {
      "name": "python"
    }
  },
  "cells": [
    {
      "cell_type": "markdown",
      "metadata": {
        "id": "view-in-github",
        "colab_type": "text"
      },
      "source": [
        "<a href=\"https://colab.research.google.com/github/swopnimghimire-123123/DSA-in-Python/blob/main/16_String_Palindrome_Checker.ipynb\" target=\"_parent\"><img src=\"https://colab.research.google.com/assets/colab-badge.svg\" alt=\"Open In Colab\"/></a>"
      ]
    },
    {
      "cell_type": "markdown",
      "source": [
        "#  Palindrome Check for a String Using Recursion\n",
        "\n",
        "A **palindrome** is a word, phrase, or sequence that reads the same backward as forward.  \n",
        "Examples: `\"madam\"`, `\"racecar\"`, `\"level\"`  \n",
        "\n",
        "---\n",
        "\n",
        "### Approach:\n",
        "1. **Base Case**  \n",
        "   - If the string has **0 or 1 characters**, it is a palindrome.  \n",
        "\n",
        "2. **Recursive Case**  \n",
        "   - Compare the first and last characters:\n",
        "     - If they are the same → recursively check the substring excluding them.\n",
        "     - If they are different → it’s not a palindrome.\n",
        "\n",
        "---\n",
        "\n",
        "### Example\n",
        "- Input: `\"racecar\"`  \n",
        "- Output: `True` (palindrome)\n",
        "\n",
        "- Input: `\"hello\"`  \n",
        "- Output: `False` (not a palindrome)\n",
        "\n",
        "---\n",
        "\n",
        "###  Time Complexity\n",
        "- Each recursive step compares **two characters**.  \n",
        "- Total comparisons = `n/2` where `n = length of string`.  \n",
        "- **Time Complexity: O(n)**  \n",
        "\n",
        "---\n",
        "\n",
        "###  Space Complexity\n",
        "- Each recursive call is stored on the **call stack**.  \n",
        "- Depth of recursion = `n/2`.  \n",
        "- **Space Complexity: O(n)**  \n",
        "\n",
        "---\n",
        "\n",
        "###  Edge Cases\n",
        "1. Empty string `\"\"` → palindrome by definition.  \n",
        "2. Single character string `\"a\"` → palindrome.  \n",
        "3. Strings with spaces or punctuation may need preprocessing (`\"A man, a plan, a canal, Panama\"`) if required.\n"
      ],
      "metadata": {
        "id": "f6YE129TQ-ZI"
      }
    },
    {
      "cell_type": "code",
      "execution_count": null,
      "metadata": {
        "colab": {
          "base_uri": "https://localhost:8080/"
        },
        "id": "A6IttVGPQ2fm",
        "outputId": "7c8cc307-4670-4795-f259-2ec180138619"
      },
      "outputs": [
        {
          "output_type": "stream",
          "name": "stdout",
          "text": [
            "racecar: True\n",
            "hello: False\n",
            "madam: True\n",
            "a: True\n",
            "   True\n"
          ]
        }
      ],
      "source": [
        "def is_palindrome(s, left, right):\n",
        "  # base case\n",
        "  if left >= right:\n",
        "    return True  # return True for empty or single-character strings\n",
        "\n",
        "  # if mismatched\n",
        "  if s[left] != s[right]:\n",
        "    return False\n",
        "\n",
        "  # recursive call\n",
        "  return is_palindrome(s, left + 1, right - 1)\n",
        "\n",
        "# Test cases\n",
        "print(\"racecar:\", is_palindrome(\"racecar\", 0, len(\"racecar\") - 1))\n",
        "print(\"hello:\", is_palindrome(\"hello\", 0, len(\"hello\") - 1))\n",
        "print(\"madam:\", is_palindrome(\"madam\", 0, len(\"madam\") - 1))\n",
        "print(\"a:\", is_palindrome(\"a\", 0, len(\"a\") - 1)) # Added edge case test\n",
        "print(\"  \", is_palindrome(\"  \", 0, len(\"  \") - 1)) # Added edge case test"
      ]
    },
    {
      "cell_type": "markdown",
      "source": [
        "#  Palindrome Check for a String (Dry Run)\n",
        "\n",
        "Let’s dry run the function for input `\"racecar\"`.\n",
        "\n",
        "### Input\n",
        "`s = \"racecar\"`, `left = 0`, `right = 6`\n",
        "\n",
        "### Steps\n",
        "1. Compare `s[0] = 'r'` and `s[6] = 'r'` → equal → recurse on substring `\"aceca\"` (`left=1`, `right=5`)\n",
        "2. Compare `s[1] = 'a'` and `s[5] = 'a'` → equal → recurse on substring `\"cec\"` (`left=2`, `right=4`)\n",
        "3. Compare `s[2] = 'c'` and `s[4] = 'c'` → equal → recurse on substring `\"e\"` (`left=3`, `right=3`)\n",
        "4. Base Case: `left >= right` → return `True`\n",
        "\n",
        "### Final Output\n",
        "`True` → `\"racecar\"` is a palindrome.\n",
        "\n",
        "---\n",
        "\n",
        "### Another Example: `\"hello\"`\n",
        "1. Compare `s[0] = 'h'` and `s[4] = 'o'` → not equal → return `False`\n",
        "\n",
        "### Final Output\n",
        "`False` → `\"hello\"` is not a palindrome.\n"
      ],
      "metadata": {
        "id": "bJ9RY8TOQGBR"
      }
    }
  ]
}