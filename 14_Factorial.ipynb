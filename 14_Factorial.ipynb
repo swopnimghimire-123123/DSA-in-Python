{
  "nbformat": 4,
  "nbformat_minor": 0,
  "metadata": {
    "colab": {
      "provenance": [],
      "authorship_tag": "ABX9TyN7DtOsa4PrODLuE3uio8lp",
      "include_colab_link": true
    },
    "kernelspec": {
      "name": "python3",
      "display_name": "Python 3"
    },
    "language_info": {
      "name": "python"
    }
  },
  "cells": [
    {
      "cell_type": "markdown",
      "metadata": {
        "id": "view-in-github",
        "colab_type": "text"
      },
      "source": [
        "<a href=\"https://colab.research.google.com/github/swopnimghimire-123123/DSA-in-Python/blob/main/14_Factorial.ipynb\" target=\"_parent\"><img src=\"https://colab.research.google.com/assets/colab-badge.svg\" alt=\"Open In Colab\"/></a>"
      ]
    },
    {
      "cell_type": "markdown",
      "source": [
        "#  Recursion in Python – Factorial Example\n",
        "\n",
        "Recursion is when a function calls itself to solve a smaller subproblem, until it reaches a **base case**.  \n",
        "\n",
        "### Factorial Definition\n",
        "Mathematically:\n",
        "- `0! = 1`\n",
        "- `1! = 1`\n",
        "- For `n > 1`:  \n",
        "  `n! = n × (n-1)!`\n",
        "\n",
        "So:\n",
        "- `5! = 5 × 4 × 3 × 2 × 1 = 120`\n",
        "\n",
        "### Recursive Function Structure\n",
        "1. **Base case** → Stops recursion (`n == 0` or `n == 1`).\n",
        "2. **Recursive case** → Breaks the problem into smaller parts (`n × factorial(n-1)`).\n",
        "\n",
        "---\n",
        "\n",
        "###  Time Complexity\n",
        "- Each call makes **one recursive call** (except the base case).\n",
        "- There are `n` calls until reaching `1` or `0`.\n",
        "- **Time Complexity: O(n)**  \n",
        "\n",
        "---\n",
        "\n",
        "###  Space Complexity\n",
        "- Each recursive call is stored on the **function call stack** until it returns.\n",
        "- Maximum depth of recursion = `n`.\n",
        "- **Space Complexity: O(n)**  \n",
        "\n",
        "---\n",
        "\n",
        "###  Edge Cases\n",
        "1. `n = 0` → Returns `1` (base case).\n",
        "2. `n = 1` → Returns `1` (base case).\n",
        "3. Large `n` → May cause **stack overflow** due to deep recursion.\n"
      ],
      "metadata": {
        "id": "hP_dhboh8xG3"
      }
    },
    {
      "cell_type": "code",
      "execution_count": null,
      "metadata": {
        "colab": {
          "base_uri": "https://localhost:8080/"
        },
        "id": "znQvGBuy8XbC",
        "outputId": "7a7eec0a-0c89-436e-f557-3d01e8ee3b59"
      },
      "outputs": [
        {
          "output_type": "stream",
          "name": "stdout",
          "text": [
            "Factorial of 5: 120\n",
            "Factorial of 7: 5040\n"
          ]
        }
      ],
      "source": [
        "# code\n",
        "\n",
        "def factorial(n):\n",
        "  # base case\n",
        "  if n == 0 or n == 1:\n",
        "    return 1\n",
        "\n",
        "  # recursive case\n",
        "  return n * factorial(n-1)\n",
        "\n",
        "# Test the function\n",
        "print(\"Factorial of 5:\", factorial(5))\n",
        "print(\"Factorial of 7:\", factorial(7))"
      ]
    }
  ]
}