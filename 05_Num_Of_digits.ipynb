{
  "nbformat": 4,
  "nbformat_minor": 0,
  "metadata": {
    "colab": {
      "provenance": [],
      "authorship_tag": "ABX9TyN3JwTjTB3YiRcFZmMc4saq",
      "include_colab_link": true
    },
    "kernelspec": {
      "name": "python3",
      "display_name": "Python 3"
    },
    "language_info": {
      "name": "python"
    }
  },
  "cells": [
    {
      "cell_type": "markdown",
      "metadata": {
        "id": "view-in-github",
        "colab_type": "text"
      },
      "source": [
        "<a href=\"https://colab.research.google.com/github/swopnimghimire-123123/DSA-in-Python/blob/main/05_Num_Of_digits.ipynb\" target=\"_parent\"><img src=\"https://colab.research.google.com/assets/colab-badge.svg\" alt=\"Open In Colab\"/></a>"
      ]
    },
    {
      "cell_type": "markdown",
      "source": [
        "# Problem: Count the Number of Digits in an Integer\n",
        "\n",
        "## Question\n",
        "Given an integer `n`, count the number of digits in it.  \n",
        "Example:  \n",
        "- Input: `5468`  \n",
        "- Output: `4`\n",
        "\n",
        "---\n",
        "\n",
        "## Explanation\n",
        "We can count digits in **two ways**:\n",
        "\n",
        "1. **Traditional approach:**  \n",
        "   - Repeatedly divide the number by 10 until it becomes 0.  \n",
        "   - Each division removes the last digit, and we increment a counter.  \n",
        "\n",
        "2. **Optimal approach using logarithm:**  \n",
        "   - For a positive integer `num`, the number of digits = `floor(log10(num)) + 1`  \n",
        "   - This avoids loops and is faster for large numbers.\n",
        "\n",
        "---\n",
        "\n",
        "## Approach\n",
        "1. **Traditional:**  \n",
        "   - Initialize a counter to 0.  \n",
        "   - While `num > 0`:  \n",
        "     - Increment counter  \n",
        "     - Remove last digit using `num // 10`  \n",
        "   - Return counter  \n",
        "\n",
        "2. **Optimal (Logarithmic):**  \n",
        "   - Use `int(log10(num)) + 1` to compute number of digits directly.  \n",
        "\n",
        "---\n",
        "\n",
        "## Complexity Analysis\n",
        "\n",
        "| Method                  | Time Complexity      | Space Complexity |\n",
        "|-------------------------|-------------------|----------------|\n",
        "| Traditional (loop)      | O(d) → O(log n)    | O(1)           |\n",
        "| Optimal (logarithm)     | O(1)               | O(1)           |\n",
        "\n",
        "**Explanation:**  \n",
        "- `d` = number of digits in `n`  \n",
        "- Traditional method iterates once per digit → O(d)  \n",
        "- Logarithmic method uses mathematical formula → O(1)  \n",
        "- Space is constant in both cases  \n",
        "\n",
        "---\n",
        "\n",
        "## Edge Cases\n",
        "- `n = 0` → 1 digit  \n",
        "- Negative numbers → take absolute value if needed  \n"
      ],
      "metadata": {
        "id": "csaM1EFiBiyA"
      }
    },
    {
      "cell_type": "code",
      "source": [
        "# Traditional way\n",
        "n = 5468\n",
        "num = n\n",
        "count = 0\n",
        "while num > 0:\n",
        "    count += 1\n",
        "    num = num // 10\n",
        "print(count)"
      ],
      "metadata": {
        "colab": {
          "base_uri": "https://localhost:8080/"
        },
        "id": "6LkoemYxBquo",
        "outputId": "f197b3d3-9d63-4dbd-895f-eb25407fe52b"
      },
      "execution_count": null,
      "outputs": [
        {
          "output_type": "stream",
          "name": "stdout",
          "text": [
            "4\n"
          ]
        }
      ]
    },
    {
      "cell_type": "code",
      "source": [
        "# Optimal way using logarithm\n",
        "from math import log10\n",
        "\n",
        "def countDigits(num):\n",
        "    return int(log10(num)) + 1\n",
        "\n",
        "print(countDigits(5468))"
      ],
      "metadata": {
        "colab": {
          "base_uri": "https://localhost:8080/"
        },
        "id": "tfqiHeJdBmBq",
        "outputId": "46b09e67-11af-491f-e40e-9fd26ddca906"
      },
      "execution_count": null,
      "outputs": [
        {
          "output_type": "stream",
          "name": "stdout",
          "text": [
            "4\n"
          ]
        }
      ]
    }
  ]
}