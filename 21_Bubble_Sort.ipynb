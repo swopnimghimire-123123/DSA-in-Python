{
  "nbformat": 4,
  "nbformat_minor": 0,
  "metadata": {
    "colab": {
      "provenance": [],
      "authorship_tag": "ABX9TyMEPOM1aflgucXVJr/7DIBL",
      "include_colab_link": true
    },
    "kernelspec": {
      "name": "python3",
      "display_name": "Python 3"
    },
    "language_info": {
      "name": "python"
    }
  },
  "cells": [
    {
      "cell_type": "markdown",
      "metadata": {
        "id": "view-in-github",
        "colab_type": "text"
      },
      "source": [
        "<a href=\"https://colab.research.google.com/github/swopnimghimire-123123/DSA-in-Python/blob/main/21_Bubble_Sort.ipynb\" target=\"_parent\"><img src=\"https://colab.research.google.com/assets/colab-badge.svg\" alt=\"Open In Colab\"/></a>"
      ]
    },
    {
      "cell_type": "markdown",
      "metadata": {
        "id": "3e538d9a"
      },
      "source": [
        "# Bubble Sort Algorithm Explained\n",
        "\n",
        "Bubble Sort is a simple sorting algorithm that repeatedly steps through the list, compares adjacent elements and swaps them if they are in the wrong order. The pass through the list is repeated until the list is sorted.\n",
        "\n",
        "## How it works:\n",
        "\n",
        "1.  **Comparison and Swapping:** The algorithm starts at the beginning of the list and compares the first two elements. If the first element is greater than the second, they are swapped. This process is repeated for the second and third elements, and so on, until the end of the list is reached. After the first pass, the largest element will be at the end of the list.\n",
        "\n",
        "2.  **Repeating the process:** The algorithm then repeats the process for the remaining elements (excluding the last one, which is already in its correct position). This continues with each pass, placing the next largest element in its correct position, until no more swaps are needed, indicating that the list is sorted.\n",
        "\n",
        "## Steps in Detail:\n",
        "\n",
        "Let's take an example array: `[5, 1, 4, 2, 8]`\n",
        "\n",
        "**Pass 1:**\n",
        "\n",
        "*   Compare 5 and 1. Swap them: `[1, 5, 4, 2, 8]`\n",
        "*   Compare 5 and 4. Swap them: `[1, 4, 5, 2, 8]`\n",
        "*   Compare 5 and 2. Swap them: `[1, 4, 2, 5, 8]`\n",
        "*   Compare 5 and 8. No swap: `[1, 4, 2, 5, 8]`\n",
        "    (8 is now in its correct position)\n",
        "\n",
        "**Pass 2:** (Consider `[1, 4, 2, 5]`)\n",
        "\n",
        "*   Compare 1 and 4. No swap: `[1, 4, 2, 5, 8]`\n",
        "*   Compare 4 and 2. Swap them: `[1, 2, 4, 5, 8]`\n",
        "*   Compare 4 and 5. No swap: `[1, 2, 4, 5, 8]`\n",
        "    (5 is now in its correct position)\n",
        "\n",
        "**Pass 3:** (Consider `[1, 2, 4]`)\n",
        "\n",
        "*   Compare 1 and 2. No swap: `[1, 2, 4, 5, 8]`\n",
        "*   Compare 2 and 4. No swap: `[1, 2, 4, 5, 8]`\n",
        "    (4 is now in its correct position)\n",
        "\n",
        "**Pass 4:** (Consider `[1, 2]`)\n",
        "\n",
        "*   Compare 1 and 2. No swap: `[1, 2, 4, 5, 8]`\n",
        "    (2 is now in its correct position)\n",
        "\n",
        "The list is now sorted: `[1, 2, 4, 5, 8]`\n",
        "\n",
        "## Time Complexity:\n",
        "\n",
        "*   **Best Case:** O(n) - When the array is already sorted.\n",
        "*   **Average Case:** O(n^2)\n",
        "*   **Worst Case:** O(n^2) - When the array is sorted in reverse order.\n",
        "\n",
        "## Space Complexity:\n",
        "\n",
        "*   O(1) - Bubble sort is an in-place sorting algorithm, meaning it does not require extra space.\n",
        "\n",
        "## Advantages:\n",
        "\n",
        "*   Simple to understand and implement.\n",
        "\n",
        "## Disadvantages:\n",
        "\n",
        "*   Inefficient for large datasets due to its quadratic time complexity.\n",
        "\n",
        "Bubble sort is primarily used for educational purposes or for sorting very small arrays. For larger datasets, more efficient algorithms like Merge Sort, Quick Sort, or Heap Sort are preferred."
      ]
    },
    {
      "cell_type": "code",
      "execution_count": 1,
      "metadata": {
        "colab": {
          "base_uri": "https://localhost:8080/"
        },
        "id": "D5isoZtSlxru",
        "outputId": "915d4a2d-f1fd-468f-8729-b0bb2a2d0cf1"
      },
      "outputs": [
        {
          "output_type": "stream",
          "name": "stdout",
          "text": [
            "[1, 2, 3, 5, 5, 6, 7, 8, 9]\n"
          ]
        }
      ],
      "source": [
        "nums = [5,1,2,6,8,9,3,5,7]\n",
        "n = len(nums)\n",
        "for i in range (n-2, -1, -1):\n",
        "  for j in range(0, i+1):\n",
        "    if nums[j] > nums[j+1]:\n",
        "      nums[j], nums[j+1] = nums[j+1], nums[j]\n",
        "print(nums)"
      ]
    },
    {
      "cell_type": "code",
      "source": [
        "# Imporvising the code so that if the list is sorted then reduce the time complexity\n",
        "nums = [5,1,2,6,8,9,3,5,7]\n",
        "n = len(nums)\n",
        "for i in range (n-2, -1, -1):\n",
        "  is_swap = False\n",
        "  for j in range(0, i+1):\n",
        "    if nums[j] > nums[j+1]:\n",
        "      nums[j], nums[j+1] = nums[j+1], nums[j]\n",
        "      is_swap = True\n",
        "  if not is_swap:\n",
        "    break\n",
        "print(nums)\n",
        "\n",
        "# This is the best case code where the list given is sorted then the time complexity will be O(n)\n"
      ],
      "metadata": {
        "colab": {
          "base_uri": "https://localhost:8080/"
        },
        "id": "FLl3ljNhppvq",
        "outputId": "7ae075e7-3584-4632-8f75-e239cb371649"
      },
      "execution_count": 4,
      "outputs": [
        {
          "output_type": "stream",
          "name": "stdout",
          "text": [
            "[1, 2, 3, 5, 5, 6, 7, 8, 9]\n"
          ]
        }
      ]
    }
  ]
}