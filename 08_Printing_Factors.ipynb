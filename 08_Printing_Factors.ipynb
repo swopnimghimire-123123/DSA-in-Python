{
  "nbformat": 4,
  "nbformat_minor": 0,
  "metadata": {
    "colab": {
      "provenance": [],
      "authorship_tag": "ABX9TyPsKlpSzVbnrYVA1w4eZneB",
      "include_colab_link": true
    },
    "kernelspec": {
      "name": "python3",
      "display_name": "Python 3"
    },
    "language_info": {
      "name": "python"
    }
  },
  "cells": [
    {
      "cell_type": "markdown",
      "metadata": {
        "id": "view-in-github",
        "colab_type": "text"
      },
      "source": [
        "<a href=\"https://colab.research.google.com/github/swopnimghimire-123123/DSA-in-Python/blob/main/08_Printing_Factors.ipynb\" target=\"_parent\"><img src=\"https://colab.research.google.com/assets/colab-badge.svg\" alt=\"Open In Colab\"/></a>"
      ]
    },
    {
      "cell_type": "markdown",
      "source": [
        "# Problem: Find All Factors of a Number\n",
        "\n",
        "## Question\n",
        "Given an integer `num`, find all of its **factors**.  \n",
        "Example:  \n",
        "- Input: `20` → Output: `[1, 2, 4, 5, 10, 20]`  \n",
        "- Input: `36` → Output: `[1, 2, 3, 4, 6, 9, 12, 18, 36]`  \n",
        "\n",
        "---\n",
        "\n",
        "## Explanation\n",
        "We can find factors in **three approaches**:\n",
        "\n",
        "1. **Brute Force:**  \n",
        "   - Check all numbers from `1` to `num`  \n",
        "   - If `num % i == 0`, then `i` is a factor  \n",
        "\n",
        "2. **Better Approach:**  \n",
        "   - Check numbers from `1` to `num//2`  \n",
        "   - Append `num` itself after the loop  \n",
        "\n",
        "3. **Optimal Approach (using square root):**  \n",
        "   - Only iterate till `sqrt(num)`  \n",
        "   - If `i` divides `num`, both `i` and `num//i` are factors  \n",
        "   - Avoid duplicate if `i*i == num`  \n",
        "\n",
        "---\n",
        "\n",
        "## Approach\n",
        "1. **Brute Force:**  \n",
        "   - Loop `i` from 1 to `num`  \n",
        "   - Append `i` to result if `num % i == 0`  \n",
        "\n",
        "2. **Better Approach:**  \n",
        "   - Loop `i` from 1 to `num//2`  \n",
        "   - Append `i` if divisible, then append `num` after the loop  \n",
        "\n",
        "3. **Optimal Approach:**  \n",
        "   - Loop `i` from 1 to `sqrt(num)`  \n",
        "   - If `num % i == 0`:  \n",
        "     - Append `i`  \n",
        "     - Append `num//i` if different from `i`  \n",
        "   - Sort the result for ordered output  \n",
        "\n",
        "---\n",
        "\n",
        "## Complexity Analysis\n",
        "\n",
        "| Method                  | Time Complexity      | Space Complexity |\n",
        "|-------------------------|-------------------|----------------|\n",
        "| Brute Force             | O(n)              | O(d)           |\n",
        "| Better (half check)     | O(n/2) → O(n)     | O(d)           |\n",
        "| Optimal (sqrt check)    | O(sqrt(n))        | O(d)           |\n",
        "\n",
        "**Explanation:**  \n",
        "- `d` = number of factors in the list  \n",
        "- Optimal method reduces iterations to √n  \n",
        "- Space needed to store factors → O(d)  \n",
        "\n",
        "---\n",
        "\n",
        "## Edge Cases\n",
        "- `num = 1` → `[1]`  \n",
        "- Prime numbers → exactly two factors `[1, prime]`  \n",
        "- Negative numbers → consider absolute value if needed\n"
      ],
      "metadata": {
        "id": "3UjEqUtaMWQh"
      }
    },
    {
      "cell_type": "code",
      "source": [
        "from math import sqrt\n",
        "\n",
        "# Brute Force\n",
        "num = 20\n",
        "result = []\n",
        "for i in range(1, num+1):\n",
        "    if num % i == 0:\n",
        "        result.append(i)\n",
        "print(\"Brute Force:\", result)\n",
        "\n",
        "# Better Approach (only up to num//2)\n",
        "result1 = []\n",
        "for i in range(1, (num//2)+1):\n",
        "    if num % i == 0:\n",
        "        result1.append(i)\n",
        "result1.append(num)\n",
        "print(\"Better Approach:\", result1)\n",
        "\n",
        "# Optimal Approach (up to sqrt(num))\n",
        "num3 = 36\n",
        "result_opt = []\n",
        "for i in range(1, int(sqrt(num3)+1)):\n",
        "    if num3 % i == 0:\n",
        "        result_opt.append(i)\n",
        "        if num3 // i != i:\n",
        "            result_opt.append(num3//i)\n",
        "print(\"Optimal Approach (unsorted):\", result_opt)\n",
        "print(\"Optimal Approach (sorted):\", sorted(result_opt))\n"
      ],
      "metadata": {
        "colab": {
          "base_uri": "https://localhost:8080/"
        },
        "id": "00PMUJAwJo8M",
        "outputId": "b83c0c72-1afd-4fa4-c5a4-28241661be37"
      },
      "execution_count": null,
      "outputs": [
        {
          "output_type": "stream",
          "name": "stdout",
          "text": [
            "Brute Force: [1, 2, 4, 5, 10, 20]\n",
            "Better Approach: [1, 2, 4, 5, 10, 20]\n",
            "Optimal Approach (unsorted): [1, 36, 2, 18, 3, 12, 4, 9, 6]\n",
            "Optimal Approach (sorted): [1, 2, 3, 4, 6, 9, 12, 18, 36]\n"
          ]
        }
      ]
    }
  ]
}