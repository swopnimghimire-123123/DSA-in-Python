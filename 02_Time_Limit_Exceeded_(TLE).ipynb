{
  "nbformat": 4,
  "nbformat_minor": 0,
  "metadata": {
    "colab": {
      "provenance": [],
      "authorship_tag": "ABX9TyOY78+PmcGJO63EN55Xd5oc",
      "include_colab_link": true
    },
    "kernelspec": {
      "name": "python3",
      "display_name": "Python 3"
    },
    "language_info": {
      "name": "python"
    }
  },
  "cells": [
    {
      "cell_type": "markdown",
      "metadata": {
        "id": "view-in-github",
        "colab_type": "text"
      },
      "source": [
        "<a href=\"https://colab.research.google.com/github/swopnimghimire-123123/DSA-in-Python/blob/main/02_Time_Limit_Exceeded_(TLE).ipynb\" target=\"_parent\"><img src=\"https://colab.research.google.com/assets/colab-badge.svg\" alt=\"Open In Colab\"/></a>"
      ]
    },
    {
      "cell_type": "markdown",
      "source": [
        "#  Time Limit Exceeded (TLE)\n",
        "\n",
        "When solving coding problems (e.g., on LeetCode, Codeforces, etc.), you may get a **Time Limit Exceeded (TLE)** error.  \n",
        "This happens when your algorithm takes too long to run on large inputs.\n",
        "\n",
        "---\n",
        "\n",
        "## Why does TLE happen?\n",
        "\n",
        "1. **Inefficient Algorithm**  \n",
        "   - Example: Using `O(n^2)` instead of `O(n log n)` for large input sizes.  \n",
        "\n",
        "2. **Large Input Size**  \n",
        "   - Even an `O(n)` algorithm may fail if constants are large or input is very big (like `n = 10^9`).  \n",
        "\n",
        "3. **Unnecessary Computations**  \n",
        "   - Repeating calculations inside loops without optimization (e.g., recalculating sums).  \n",
        "\n",
        "---\n",
        "\n",
        "## How to Avoid TLE?\n",
        "\n",
        "- Optimize the **time complexity** of your algorithm.  \n",
        "- Use **efficient data structures** (hash maps, sets, heaps).  \n",
        "- Use **mathematical formulas** instead of loops where possible.  \n",
        "- Avoid deep recursion when `n` is large.  \n",
        "- Always check the **constraints** before coding.\n",
        "\n",
        "---\n",
        "\n",
        "## Rule of Thumb\n",
        "\n",
        "- `O(n)` works for `n` up to about `10^7` in 1 second.  \n",
        "- `O(n log n)` works for `n` up to about `10^6`.  \n",
        "- `O(n^2)` usually only works for `n` up to about `10^4`.  \n",
        "- `O(2^n)` or `O(n!)` → not feasible for big `n`.\n",
        "\n",
        "---\n"
      ],
      "metadata": {
        "id": "wMOJhXyMzteX"
      }
    },
    {
      "cell_type": "code",
      "execution_count": null,
      "metadata": {
        "colab": {
          "base_uri": "https://localhost:8080/"
        },
        "id": "1VK6L1K7y-4j",
        "outputId": "b178e12b-7572-4719-a45f-7ba1232e338e"
      },
      "outputs": [
        {
          "output_type": "stream",
          "name": "stdout",
          "text": [
            "O(n^2) time: 2.1570611000061035 seconds\n",
            "O(1) time: 0.00011539459228515625 seconds\n"
          ]
        }
      ],
      "source": [
        "import time\n",
        "\n",
        "# Inefficient O(n^2) solution\n",
        "def slow_sum(n):\n",
        "  total = 0\n",
        "  for i in range (1,n+1):\n",
        "    for j in range(i):\n",
        "      total += 1\n",
        "  return total\n",
        "\n",
        "\n",
        "# Efficinet O(1) solution using formula\n",
        "def fast_sum(n):\n",
        "  return (n*(n+1))//2\n",
        "\n",
        "# Test runtime\n",
        "n = 10000\n",
        "\n",
        "\n",
        "start = time.time()  # stores time for the execution for the execution of code\n",
        "slow_sum(n)          # calls the funciton\n",
        "print(\"O(n^2) time:\", time.time() - start, \"seconds\") # prints the time\n",
        "\n",
        "\n",
        "# same like how we did before\n",
        "start = time.time()\n",
        "fast_sum(n)\n",
        "print(\"O(1) time:\", time.time() - start, \"seconds\")"
      ]
    },
    {
      "cell_type": "markdown",
      "source": [
        "#  Conclusion on Time Limit Exceeded (TLE)\n",
        "\n",
        "- A **TLE error** occurs when your code cannot finish execution within the time limit set by the problem.  \n",
        "- In the experiment above, the `O(n^2)` approach already took ~2 seconds for `n = 10,000`.  \n",
        "- If input grows bigger (e.g., `n = 100,000`), runtime increases dramatically (close to 10,000 seconds), making it **impossible** to finish within the limit.  \n",
        "- On the other hand, the optimized `O(1)` formula gives the result instantly, showing why **choosing the right algorithm is critical**.  \n",
        "\n",
        "### Key Takeaway\n",
        "Always:\n",
        "1. Analyze **input constraints** before coding.  \n",
        "2. Match your algorithm’s **time complexity** to the input size.  \n",
        "3. Optimize wherever possible to avoid TLE.  \n",
        "\n",
        "---\n"
      ],
      "metadata": {
        "id": "zgXLMah31Y7D"
      }
    }
  ]
}