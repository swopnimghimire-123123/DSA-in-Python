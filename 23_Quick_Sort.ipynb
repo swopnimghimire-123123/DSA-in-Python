{
  "nbformat": 4,
  "nbformat_minor": 0,
  "metadata": {
    "colab": {
      "provenance": [],
      "authorship_tag": "ABX9TyO8om5zSBXKr+lfDhb0lHjp",
      "include_colab_link": true
    },
    "kernelspec": {
      "name": "python3",
      "display_name": "Python 3"
    },
    "language_info": {
      "name": "python"
    }
  },
  "cells": [
    {
      "cell_type": "markdown",
      "metadata": {
        "id": "view-in-github",
        "colab_type": "text"
      },
      "source": [
        "<a href=\"https://colab.research.google.com/github/swopnimghimire-123123/DSA-in-Python/blob/main/23_Quick_Sort.ipynb\" target=\"_parent\"><img src=\"https://colab.research.google.com/assets/colab-badge.svg\" alt=\"Open In Colab\"/></a>"
      ]
    },
    {
      "cell_type": "markdown",
      "metadata": {
        "id": "472d4735"
      },
      "source": [
        "## Quick Sort: A Detailed Explanation\n",
        "\n",
        "Quick Sort is a highly efficient sorting algorithm based on the **divide-and-conquer** paradigm. It was developed by Tony Hoare in 1960. Despite being recursive, it is often preferred over other sorting algorithms like Merge Sort due to its in-place sorting nature and generally better average-case performance.\n",
        "\n",
        "### How it Works\n",
        "\n",
        "Quick Sort works by partitioning a given array around a chosen element called a **pivot**. The goal of partitioning is to place the pivot in its correct sorted position in the array, such that all elements smaller than the pivot are placed before it, and all elements greater than the pivot are placed after it. This process is recursively applied to the subarrays on either side of the pivot until the entire array is sorted.\n",
        "\n",
        "Here are the main steps involved:\n",
        "\n",
        "1. **Choose a Pivot:** Select an element from the array to serve as the pivot. There are various strategies for choosing a pivot:\n",
        "    * **First element:** Simple but can lead to worst-case performance on already sorted or reverse-sorted arrays.\n",
        "    * **Last element:** Similar to the first element, also prone to worst-case scenarios in specific cases.\n",
        "    * **Median of three:** Choose the median of the first, middle, and last elements. This helps in mitigating worst-case scenarios.\n",
        "    * **Random element:** Choose a random element as the pivot. This generally provides good average-case performance.\n",
        "\n",
        "2. **Partitioning:** Rearrange the elements in the array such that:\n",
        "    * All elements less than the pivot are placed before the pivot.\n",
        "    * All elements greater than the pivot are placed after the pivot.\n",
        "    * Elements equal to the pivot can be on either side.\n",
        "    The partitioning process returns the index of the pivot in its final sorted position.\n",
        "\n",
        "3. **Recursively Sort Subarrays:** Apply Quick Sort recursively to the subarray of elements to the left of the pivot and the subarray of elements to the right of the pivot. This continues until the subarrays contain one or zero elements, which are considered sorted by definition.\n",
        "\n",
        "### Example\n",
        "\n",
        "Let's illustrate Quick Sort with an example array: `[10, 7, 8, 9, 1, 5]`\n",
        "\n",
        "**Step 1: Choose a Pivot**\n",
        "Let's choose the last element, `5`, as the pivot.\n",
        "\n",
        "**Step 2: Partitioning**\n",
        "We partition the array around 5. After partitioning, the array might look like: `[1, 5, 10, 7, 8, 9]` (The exact arrangement of elements other than the pivot depends on the partitioning algorithm used). The pivot `5` is now in its correct sorted position.\n",
        "\n",
        "**Step 3: Recursively Sort Subarrays**\n",
        "\n",
        "* **Left Subarray:** `[1]` (already sorted)\n",
        "* **Right Subarray:** `[10, 7, 8, 9]`\n",
        "\n",
        "Now we recursively apply Quick Sort to the right subarray `[10, 7, 8, 9]`.\n",
        "\n",
        "* **Choose Pivot:** Let's choose `9` as the pivot for this subarray.\n",
        "* **Partitioning:** Partition `[10, 7, 8, 9]` around `9`. The array might become: `[7, 8, 9, 10]`. The pivot `9` is in its correct position.\n",
        "* **Recursively Sort Subarrays:**\n",
        "    * **Left Subarray:** `[7, 8]`\n",
        "    * **Right Subarray:** `[10]` (already sorted)\n",
        "\n",
        "Now we recursively apply Quick Sort to `[7, 8]`.\n",
        "\n",
        "* **Choose Pivot:** Let's choose `8` as the pivot.\n",
        "* **Partitioning:** Partition `[7, 8]` around `8`. The array might become: `[7, 8]`. The pivot `8` is in its correct position.\n",
        "* **Recursively Sort Subarrays:**\n",
        "    * **Left Subarray:** `[7]` (already sorted)\n",
        "    * **Right Subarray:** `[]` (empty, already sorted)\n",
        "\n",
        "Now all subarrays are sorted, and the entire array is sorted: `[1, 5, 7, 8, 9, 10]`\n",
        "\n",
        "### Partitioning Algorithms\n",
        "\n",
        "There are several partitioning algorithms. Two common ones are:\n",
        "\n",
        "* **Hoare's Partition Scheme:** This scheme is generally more efficient but less intuitive than Lomuto's. It uses two pointers, one starting from the beginning and one from the end, moving towards each other.\n",
        "* **Lomuto's Partition Scheme:** This scheme is simpler to understand and implement. It uses a single pointer to track the boundary between elements less than or equal to the pivot and elements greater than the pivot.\n",
        "\n",
        "### Performance\n",
        "\n",
        "* **Time Complexity:**\n",
        "    * **Best Case:** O(n log n) - Occurs when the pivot always partitions the array into two roughly equal halves.\n",
        "    * **Average Case:** O(n log n) - Quick Sort performs well on average.\n",
        "    * **Worst Case:** O(n^2) - Occurs when the pivot consistently results in unbalanced partitions (e.g., when the array is already sorted or reverse-sorted and the pivot is always the first or last element).\n",
        "\n",
        "* **Space Complexity:** O(log n) on average due to the recursive calls on the stack. In the worst case, it can be O(n). Quick Sort is an in-place sorting algorithm, meaning it does not require significant extra space beyond the input array.\n",
        "\n",
        "### Advantages\n",
        "\n",
        "* **Fast:** Generally one of the fastest sorting algorithms for large datasets.\n",
        "* **In-place:** Sorts the array in place, minimizing memory usage.\n",
        "* **Cache-friendly:** Its sequential access patterns can be efficient for modern computer architectures.\n",
        "\n",
        "### Disadvantages\n",
        "\n",
        "* **Worst-case performance:** Can degrade to O(n^2) in certain scenarios, although pivot selection strategies can mitigate this.\n",
        "* **Not stable:** Does not maintain the relative order of equal elements.\n",
        "* **Recursive:** Can lead to stack overflow issues for very large arrays in the worst case (can be implemented iteratively to avoid this).\n",
        "\n",
        "### Applications\n",
        "\n",
        "Quick Sort is widely used in various applications, including:\n",
        "\n",
        "* **General-purpose sorting libraries:** Many programming languages use Quick Sort in their built-in sorting functions.\n",
        "* **Database systems:** Used for sorting data within databases.\n",
        "* **Operating systems:** Used for sorting files and other data structures.\n",
        "\n",
        "In summary, Quick Sort is a powerful and efficient sorting algorithm that utilizes the divide-and-conquer approach. While it has a worst-case scenario, proper pivot selection strategies and its in-place nature make it a popular choice for many sorting tasks."
      ]
    },
    {
      "cell_type": "code",
      "execution_count": 14,
      "metadata": {
        "colab": {
          "base_uri": "https://localhost:8080/"
        },
        "id": "lYQr27Uc8cO2",
        "outputId": "0e6561e2-4e4b-42b9-f279-7a4771889100"
      },
      "outputs": [
        {
          "output_type": "stream",
          "name": "stdout",
          "text": [
            "[1, 5, 5, 7, 7, 8, 10, 10]\n",
            "[1, 5, 5, 7, 8, 8, 10, 10]\n",
            "[1, 5, 5, 7, 8, 8, 10, 10]\n",
            "[1, 5, 5, 7, 8, 8, 10, 10]\n"
          ]
        }
      ],
      "source": [
        "def partation (nums, low, high):\n",
        "  pivot = nums[low]\n",
        "  i = low\n",
        "  j = high\n",
        "  while i < j:\n",
        "    while nums[i] <= pivot and i <= high-1:\n",
        "      i += 1\n",
        "    while nums[j] > pivot and j >= low+1:\n",
        "      j -= 1\n",
        "    if i<j :\n",
        "      nums[i], nums[j] = nums[j], nums[i]\n",
        "  nums[low],nums[j] = nums[j], nums[i]\n",
        "  return j\n",
        "\n",
        "def quick_sort(nums, low, high):\n",
        "  if low < high:\n",
        "    p = partation(nums, low, high)\n",
        "    quick_sort(nums, low, p-1)\n",
        "    quick_sort(nums, p+1, high)\n",
        "    print(nums)\n",
        "quick_sort([9,8,1,2,7,5,6,10], 0, len([9,8,1,2,7,5,6,10])-1)"
      ]
    }
  ]
}