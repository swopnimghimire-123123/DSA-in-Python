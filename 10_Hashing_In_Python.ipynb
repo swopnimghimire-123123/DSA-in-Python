{
  "nbformat": 4,
  "nbformat_minor": 0,
  "metadata": {
    "colab": {
      "provenance": [],
      "authorship_tag": "ABX9TyPZ9Ku55CBmDWb2Tkbn9ohM",
      "include_colab_link": true
    },
    "kernelspec": {
      "name": "python3",
      "display_name": "Python 3"
    },
    "language_info": {
      "name": "python"
    }
  },
  "cells": [
    {
      "cell_type": "markdown",
      "metadata": {
        "id": "view-in-github",
        "colab_type": "text"
      },
      "source": [
        "<a href=\"https://colab.research.google.com/github/swopnimghimire-123123/DSA-in-Python/blob/main/10_Hashing_In_Python.ipynb\" target=\"_parent\"><img src=\"https://colab.research.google.com/assets/colab-badge.svg\" alt=\"Open In Colab\"/></a>"
      ]
    },
    {
      "cell_type": "markdown",
      "source": [
        "# Topic: Hashing in Python\n",
        "\n",
        "## Introduction\n",
        "**Hashing** is a technique used to map data of arbitrary size to fixed-size values, called **hash values**.  \n",
        "It is widely used in data structures like **hash tables, dictionaries, and sets** to provide **fast access, insertion, and deletion**.\n",
        "\n",
        "---\n",
        "\n",
        "## Why Hashing is Important\n",
        "- Provides **constant time O(1) average** complexity for search, insert, and delete operations.  \n",
        "- Efficient for counting frequencies, detecting duplicates, and implementing sets/maps.  \n",
        "- Avoids linear search in arrays/lists when handling large datasets.  \n",
        "\n",
        "---\n",
        "\n",
        "## Hash Function\n",
        "A **hash function** takes an input (key) and returns an integer (hash value).  \n",
        "The hash value determines **where the key-value pair is stored** in the hash table.  \n",
        "\n",
        "**Python Example:**  \n",
        "- Python dictionaries (`dict`) and sets (`set`) are **built-in hash tables**.  \n",
        "- Every key in a dictionary is hashed to locate its storage position.  \n",
        "\n",
        "```python\n",
        "# Example of hash function in Python\n",
        "key = \"example\"\n",
        "hash_value = hash(key)\n",
        "print(\"Hash value of key:\", hash_value)\n"
      ],
      "metadata": {
        "id": "EigrO-qnPL4s"
      }
    },
    {
      "cell_type": "code",
      "execution_count": null,
      "metadata": {
        "colab": {
          "base_uri": "https://localhost:8080/"
        },
        "id": "ecN0bU7XOtWw",
        "outputId": "1dd583e4-ae69-45a5-f600-b59b4e5038f8"
      },
      "outputs": [
        {
          "output_type": "stream",
          "name": "stdout",
          "text": [
            "Hash of 'example': -590436172181865143\n",
            "Hash of 12345: 12345\n",
            "Hash of (1,2,3): 529344067295497451\n"
          ]
        }
      ],
      "source": [
        "# 1. Hashing example\n",
        "key1 = \"example\"\n",
        "key2 = 12345\n",
        "key3 = (1, 2, 3)  # tuples are hashable\n",
        "\n",
        "print(\"Hash of 'example':\", hash(key1))\n",
        "print(\"Hash of 12345:\", hash(key2))\n",
        "print(\"Hash of (1,2,3):\", hash(key3))"
      ]
    },
    {
      "cell_type": "code",
      "source": [
        "### 2. Dictionary Operations (Hash Table)\n",
        "### Insertion, Access, Deletion, and Membership\n",
        "\n",
        "# Insertion\n",
        "d = {}\n",
        "d[\"apple\"] = 10\n",
        "d[\"banana\"] = 5\n",
        "d[\"orange\"] = 8\n",
        "\n",
        "print(\"Dictionary after insertion:\", d)\n",
        "\n",
        "# Access\n",
        "print(\"Value of 'apple':\", d[\"apple\"])\n",
        "\n",
        "# Deletion\n",
        "del d[\"banana\"]\n",
        "print(\"Dictionary after deletion:\", d)\n",
        "\n",
        "# Membership check\n",
        "if \"orange\" in d:\n",
        "    print(\"'orange' found in dictionary\")"
      ],
      "metadata": {
        "colab": {
          "base_uri": "https://localhost:8080/"
        },
        "id": "xyVJ46TOP8kJ",
        "outputId": "29d0f835-5a3d-445e-a3a6-b842cde540fc"
      },
      "execution_count": null,
      "outputs": [
        {
          "output_type": "stream",
          "name": "stdout",
          "text": [
            "Dictionary after insertion: {'apple': 10, 'banana': 5, 'orange': 8}\n",
            "Value of 'apple': 10\n",
            "Dictionary after deletion: {'apple': 10, 'orange': 8}\n",
            "'orange' found in dictionary\n"
          ]
        }
      ]
    },
    {
      "cell_type": "code",
      "source": [
        "# 3. counting frequencies using dictionary\n",
        "text = \"hello world hello\"\n",
        "word_freq = {}\n",
        "\n",
        "for word in text.split():\n",
        "    if word in word_freq:\n",
        "        word_freq[word] += 1\n",
        "    else:\n",
        "        word_freq[word] = 1\n",
        "\n",
        "print(\"Word frequencies:\", word_freq)\n",
        "\n",
        "\n",
        "# another example\n",
        "nums = [5,6,7,7,2,1,9,111,1,1,5,1,2,4,6,2,0]\n",
        "\n",
        "frequency_map = {}\n",
        "for num in nums:\n",
        "    frequency_map[num] = frequency_map.get(num, 0) + 1\n",
        "\n",
        "print(\"Frequency of elements:\", frequency_map)"
      ],
      "metadata": {
        "colab": {
          "base_uri": "https://localhost:8080/"
        },
        "id": "mEnxU3IkP8yO",
        "outputId": "c35b1119-8290-4f01-e5cd-4cb829f55375"
      },
      "execution_count": null,
      "outputs": [
        {
          "output_type": "stream",
          "name": "stdout",
          "text": [
            "Word frequencies: {'hello': 2, 'world': 1}\n",
            "Frequency of elements: {5: 2, 6: 2, 7: 2, 2: 3, 1: 4, 9: 1, 111: 1, 4: 1, 0: 1}\n"
          ]
        }
      ]
    },
    {
      "cell_type": "code",
      "source": [
        "## 4. Detecting Duplicates Using Set\n",
        "nums = [1,2,3,2,4,1,5,6,3]\n",
        "seen = set()\n",
        "for num in nums:\n",
        "    if num in seen:\n",
        "        print(num, \"is a duplicate\")\n",
        "    else:\n",
        "        seen.add(num)"
      ],
      "metadata": {
        "colab": {
          "base_uri": "https://localhost:8080/"
        },
        "id": "Hiow0gOaP8_W",
        "outputId": "add52734-754b-4824-ab2f-73e78ef61c64"
      },
      "execution_count": null,
      "outputs": [
        {
          "output_type": "stream",
          "name": "stdout",
          "text": [
            "2 is a duplicate\n",
            "1 is a duplicate\n",
            "3 is a duplicate\n"
          ]
        }
      ]
    },
    {
      "cell_type": "code",
      "source": [
        "## 5. Fast Membership Check Using Set\n",
        "s = set([1,2,3,4,5])\n",
        "print(\"2 in set?\", 2 in s)  # True\n",
        "print(\"6 in set?\", 6 in s)  # False"
      ],
      "metadata": {
        "colab": {
          "base_uri": "https://localhost:8080/"
        },
        "id": "UIskYuzHRCA0",
        "outputId": "594ac2e1-1bc5-4849-d053-8f5c871da6e1"
      },
      "execution_count": null,
      "outputs": [
        {
          "output_type": "stream",
          "name": "stdout",
          "text": [
            "2 in set? True\n",
            "6 in set? False\n"
          ]
        }
      ]
    },
    {
      "cell_type": "markdown",
      "source": [
        "## 6. Edge Cases / Notes\n",
        "- Keys in dictionaries must be **hashable** (immutable types like int, str, tuple).  \n",
        "- Mutable types like lists or dicts cannot be used as keys.  \n",
        "- Python may randomize hash values between runs for security.  \n",
        "- Average time complexity for insertion, search, and deletion in dict/set: **O(1)**.  \n",
        "- Worst-case complexity: **O(n)** in case of many collisions.  \n"
      ],
      "metadata": {
        "id": "akUrv7BsRCf3"
      }
    },
    {
      "cell_type": "markdown",
      "source": [
        "## 7. Summary\n",
        "- Hashing maps keys to indices using a **hash function**.  \n",
        "- Python dictionaries (`dict`) and sets (`set`) are built-in hash tables.  \n",
        "- Hash tables provide **fast average O(1) operations** for search, insertion, and deletion.  \n",
        "- Common applications include **frequency counting, duplicate detection, and membership testing**.\n"
      ],
      "metadata": {
        "id": "d4g2E9R7RQyY"
      }
    }
  ]
}