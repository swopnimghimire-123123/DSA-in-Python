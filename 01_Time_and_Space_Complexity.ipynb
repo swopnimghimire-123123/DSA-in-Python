{
  "nbformat": 4,
  "nbformat_minor": 0,
  "metadata": {
    "colab": {
      "provenance": [],
      "authorship_tag": "ABX9TyPSPZctWjWFxA1WeX5BCtk8",
      "include_colab_link": true
    },
    "kernelspec": {
      "name": "python3",
      "display_name": "Python 3"
    },
    "language_info": {
      "name": "python"
    }
  },
  "cells": [
    {
      "cell_type": "markdown",
      "metadata": {
        "id": "view-in-github",
        "colab_type": "text"
      },
      "source": [
        "<a href=\"https://colab.research.google.com/github/swopnimghimire-123123/DSA-in-Python/blob/main/01_Time_and_Space_Complexity.ipynb\" target=\"_parent\"><img src=\"https://colab.research.google.com/assets/colab-badge.svg\" alt=\"Open In Colab\"/></a>"
      ]
    },
    {
      "cell_type": "markdown",
      "source": [
        "#  Time and Space Complexity\n",
        "\n",
        "When we analyze algorithms, we want to measure how **efficient** they are. Two main factors are:\n",
        "\n",
        "---\n",
        "\n",
        "## 1. **Time Complexity**\n",
        "- Time complexity measures how the *running time* of an algorithm grows with the size of the input `n`.\n",
        "- We don’t measure in seconds, but in terms of **number of operations**.\n",
        "- It is usually expressed in **Big-O Notation**.\n",
        "\n",
        "### Common Time Complexities:\n",
        "- **O(1)** → Constant time (e.g., accessing an array element).\n",
        "- **O(log n)** → Logarithmic time (e.g., binary search).\n",
        "- **O(n)** → Linear time (e.g., traversing an array).\n",
        "- **O(n log n)** → Log-linear time (e.g., merge sort, quicksort average).\n",
        "- **O(n²)** → Quadratic time (e.g., nested loops like bubble sort).\n",
        "- **O(2ⁿ)** → Exponential time (e.g., recursive Fibonacci).\n",
        "- **O(n!)** → Factorial time (e.g., generating all permutations).\n",
        "\n",
        "---\n",
        "\n",
        "## 2. **Space Complexity**\n",
        "- Space complexity measures the **amount of memory** an algorithm needs relative to input size `n`.\n",
        "- It includes:\n",
        "  - **Fixed part:** memory used by constants, program code, etc.\n",
        "  - **Variable part:** memory used by data structures, recursion stack, etc.\n",
        "\n",
        "### Examples:\n",
        "- **O(1)** → No extra memory (e.g., swapping two numbers).\n",
        "- **O(n)** → Extra memory grows linearly (e.g., storing an array).\n",
        "- **O(n²)** → 2D arrays, adjacency matrices, etc.\n",
        "\n",
        "---\n",
        "\n",
        "## 3. Why it Matters\n",
        "- **Time complexity** helps us choose algorithms that run faster for large inputs.  \n",
        "- **Space complexity** ensures our algorithm fits in memory.  \n",
        "\n",
        "For real-world systems, we often balance **time vs. space** depending on constraints (fast execution vs. limited memory).\n",
        "\n",
        "---\n"
      ],
      "metadata": {
        "id": "Kfzoq_LexBe9"
      }
    },
    {
      "cell_type": "markdown",
      "source": [
        "##  Rules to Calculate Time and Space Complexity\n",
        "\n",
        "When analyzing an algorithm, we estimate the **growth rate** of operations (time) and memory (space) as input size `n` increases.  \n",
        "Here are the main rules:\n",
        "\n",
        "---\n",
        "\n",
        "##  Rules for **Time Complexity**\n",
        "1. **Ignore constant operations**  \n",
        "   - Example: `a = a + 1` is `O(1)`  \n",
        "   - Even if it takes 3 steps internally, it’s still constant.\n",
        "\n",
        "2. **Add when steps are sequential**  \n",
        "   ```python\n",
        "   for i in range(n):       # O(n)\n",
        "       print(i)\n",
        "   for j in range(n):       # O(n)\n",
        "       print(j)\n"
      ],
      "metadata": {
        "id": "1CoTZcImxXM2"
      }
    },
    {
      "cell_type": "code",
      "source": [],
      "metadata": {
        "id": "WFDPlqJKx2C4"
      },
      "execution_count": null,
      "outputs": []
    },
    {
      "cell_type": "code",
      "execution_count": null,
      "metadata": {
        "id": "CwCDwZXGwe3P"
      },
      "outputs": [],
      "source": [
        "# Time and space complexity examples\n",
        "\n",
        "def sequential_example(arr):\n",
        "\n",
        "  # O(1) for constant\n",
        "  a = 10\n",
        "\n",
        "  # O(n) for loop over n\n",
        "  for items in arr:\n",
        "    print(items)\n",
        "\n",
        "  # O(1) for constant\n",
        "  b = 20\n",
        "\n",
        "# total time complexity = O(n) + O(1) + O(1) and we ignore constant so\n",
        "# total time complexity = O(n)"
      ]
    }
  ]
}