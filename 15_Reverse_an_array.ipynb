{
  "nbformat": 4,
  "nbformat_minor": 0,
  "metadata": {
    "colab": {
      "provenance": [],
      "authorship_tag": "ABX9TyNtb8qq1R6lkFiVPDXVLOWP",
      "include_colab_link": true
    },
    "kernelspec": {
      "name": "python3",
      "display_name": "Python 3"
    },
    "language_info": {
      "name": "python"
    }
  },
  "cells": [
    {
      "cell_type": "markdown",
      "metadata": {
        "id": "view-in-github",
        "colab_type": "text"
      },
      "source": [
        "<a href=\"https://colab.research.google.com/github/swopnimghimire-123123/DSA-in-Python/blob/main/15_Reverse_an_array.ipynb\" target=\"_parent\"><img src=\"https://colab.research.google.com/assets/colab-badge.svg\" alt=\"Open In Colab\"/></a>"
      ]
    },
    {
      "cell_type": "markdown",
      "source": [
        "#  Reverse an Array Using Recursion\n",
        "\n",
        "Reversing an array is a common problem. Instead of using loops, we can solve it with **recursion** by swapping elements from both ends until they meet in the middle.\n",
        "\n",
        "---\n",
        "\n",
        "### Approach:\n",
        "1. **Base Case**  \n",
        "   - If `left >= right`, stop recursion (array is fully reversed).\n",
        "   \n",
        "2. **Recursive Case**  \n",
        "   - Swap the elements at positions `left` and `right`.\n",
        "   - Recursively call the function with `left + 1` and `right - 1`.\n",
        "\n",
        "---\n",
        "\n",
        "### Example\n",
        "Input: `[2,4,5,6,7]`  \n",
        "Output: `[7,6,5,4,2]`\n",
        "\n",
        "---\n",
        "\n",
        "###  Time Complexity\n",
        "- At each recursive step, we swap two elements.\n",
        "- Total swaps = `n/2` (where `n` = size of array).  \n",
        "- **Time Complexity: O(n)**\n",
        "\n",
        "---\n",
        "\n",
        "###  Space Complexity\n",
        "- Each recursive call is stored on the **function call stack**.\n",
        "- Maximum depth of recursion = `n/2`.  \n",
        "- **Space Complexity: O(n)** (because recursion stack grows with number of calls).  \n",
        "\n",
        "---\n",
        "\n",
        "###  Edge Cases\n",
        "1. Empty array `[]` → returns `[]`.\n",
        "2. Single element array `[5]` → remains `[5]`.\n",
        "3. Already reversed array → no issue (still reversed properly).\n"
      ],
      "metadata": {
        "id": "Y5FlDX_K-U4H"
      }
    },
    {
      "cell_type": "code",
      "source": [
        "# Reverse an array using recursion\n",
        "nums = [1,2,3,4,5,6,7,8]\n",
        "left = 0\n",
        "right = len(nums)-1\n",
        "\n",
        "print(\"original array:\",nums)\n",
        "def revereseArray(nums, left, right):\n",
        "    # Base Case\n",
        "    if left >= right:\n",
        "        return\n",
        "    # Recursive Case\n",
        "    nums[left],nums[right] = nums[right],nums[left]\n",
        "\n",
        "    left += 1\n",
        "    right -= 1\n",
        "\n",
        "# calling the fucntion\n",
        "revereseArray(nums, left, right)\n",
        "print(\"reversed array:\",nums)"
      ],
      "metadata": {
        "colab": {
          "base_uri": "https://localhost:8080/"
        },
        "id": "NsvXhNIh-VEB",
        "outputId": "3ec1a129-f4f5-49fc-ca86-884b42bc981e"
      },
      "execution_count": null,
      "outputs": [
        {
          "output_type": "stream",
          "name": "stdout",
          "text": [
            "original array: [1, 2, 3, 4, 5, 6, 7, 8]\n",
            "reversed array: [8, 2, 3, 4, 5, 6, 7, 1]\n"
          ]
        }
      ]
    }
  ]
}