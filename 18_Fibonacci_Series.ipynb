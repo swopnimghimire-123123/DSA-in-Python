{
  "nbformat": 4,
  "nbformat_minor": 0,
  "metadata": {
    "colab": {
      "provenance": [],
      "authorship_tag": "ABX9TyPyeTjbJG9bGZZJKJXgcIEJ",
      "include_colab_link": true
    },
    "kernelspec": {
      "name": "python3",
      "display_name": "Python 3"
    },
    "language_info": {
      "name": "python"
    }
  },
  "cells": [
    {
      "cell_type": "markdown",
      "metadata": {
        "id": "view-in-github",
        "colab_type": "text"
      },
      "source": [
        "<a href=\"https://colab.research.google.com/github/swopnimghimire-123123/DSA-in-Python/blob/main/18_Fibonacci_Series.ipynb\" target=\"_parent\"><img src=\"https://colab.research.google.com/assets/colab-badge.svg\" alt=\"Open In Colab\"/></a>"
      ]
    },
    {
      "cell_type": "markdown",
      "source": [
        "#  Printing Fibonacci Series up to N terms\n",
        "\n",
        "Instead of finding just the `n`-th Fibonacci number, sometimes we want to **print the whole sequence** up to `n` terms.\n",
        "\n",
        "---\n",
        "\n",
        "### Approach 1: Recursion\n",
        "- Use a recursive function `fib(n)` that returns the `n`-th Fibonacci number.  \n",
        "- Loop from `0` to `n-1` and call `fib(i)` to print each number.  \n",
        "\n",
        " Very inefficient (`O(2^n)` per number, repeated calls). Not practical for large `n`.\n",
        "\n",
        "---\n",
        "\n",
        "### Approach 2: Iterative (Optimal)\n",
        "- Start with the first two numbers (0 and 1).\n",
        "- Iteratively compute the next numbers by summing the last two.\n",
        "- Much faster and avoids recursion overhead.\n",
        "\n",
        "---\n",
        "\n",
        "### Example\n",
        "Input: `n = 7`  \n",
        "Output: `0 1 1 2 3 5 8`\n",
        "\n",
        "---\n",
        "\n",
        "###  Time Complexity\n",
        "- Recursive series printing: **O(n · 2^n)** (since each term recomputes many values).  \n",
        "- Iterative method: **O(n)**  \n",
        "\n",
        "---\n",
        "\n",
        "###  Space Complexity\n",
        "- Recursive: **O(n)** (due to recursion stack).  \n",
        "- Iterative: **O(1)**  \n",
        "\n",
        "---\n",
        "\n",
        "###  Edge Cases\n",
        "1. `n = 0` → Output: `[]`  \n",
        "2. `n = 1` → Output: `[0]`  \n",
        "3. `n = 2` → Output: `[0, 1]`\n"
      ],
      "metadata": {
        "id": "pwqgnI08fHG8"
      }
    },
    {
      "cell_type": "code",
      "execution_count": null,
      "metadata": {
        "colab": {
          "base_uri": "https://localhost:8080/"
        },
        "id": "pzJRLMUhe9C-",
        "outputId": "02fde36d-da15-4130-8ed5-61d827d22995"
      },
      "outputs": [
        {
          "output_type": "stream",
          "name": "stdout",
          "text": [
            "0 1 1 2 3 5 8 "
          ]
        }
      ],
      "source": [
        "# Approach : 1\n",
        "# Recursive approach\n",
        "def fib(n):\n",
        "  # Base Case\n",
        "  if n == 0 :\n",
        "    return 0\n",
        "  if n == 1 :\n",
        "    return 1\n",
        "\n",
        "  # recursion\n",
        "  return fib(n-1) + fib(n-2)\n",
        "\n",
        "def print_fib(n):\n",
        "  for i in range(n):\n",
        "    print(fib(i), end = \" \")\n",
        "\n",
        "print_fib(7)"
      ]
    },
    {
      "cell_type": "code",
      "source": [
        "# Approach : 2\n",
        "# Iterative Approach (optimal)\n",
        "\n",
        "def print_fib(n):\n",
        "  a,b = 0,1\n",
        "  for i in range(n):\n",
        "    print(a,end=\" \")\n",
        "    a,b = b, a+b\n",
        "\n",
        "print(\"\\nFibonacci series (Iterative, n=7):\")\n",
        "print_fib(7)"
      ],
      "metadata": {
        "colab": {
          "base_uri": "https://localhost:8080/"
        },
        "id": "Ml5BYwDYf_By",
        "outputId": "6dbf2e68-babb-4061-bd5c-fcd397cecda7"
      },
      "execution_count": null,
      "outputs": [
        {
          "output_type": "stream",
          "name": "stdout",
          "text": [
            "\n",
            "Fibonacci series (Iterative, n=7):\n",
            "0 1 1 2 3 5 8 "
          ]
        }
      ]
    }
  ]
}