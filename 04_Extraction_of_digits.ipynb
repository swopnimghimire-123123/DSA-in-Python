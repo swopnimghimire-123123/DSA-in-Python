{
  "nbformat": 4,
  "nbformat_minor": 0,
  "metadata": {
    "colab": {
      "provenance": [],
      "authorship_tag": "ABX9TyOcGxWBJqGjzLwKmkJdQZp3",
      "include_colab_link": true
    },
    "kernelspec": {
      "name": "python3",
      "display_name": "Python 3"
    },
    "language_info": {
      "name": "python"
    }
  },
  "cells": [
    {
      "cell_type": "markdown",
      "metadata": {
        "id": "view-in-github",
        "colab_type": "text"
      },
      "source": [
        "<a href=\"https://colab.research.google.com/github/swopnimghimire-123123/DSA-in-Python/blob/main/04_Extraction_of_digits.ipynb\" target=\"_parent\"><img src=\"https://colab.research.google.com/assets/colab-badge.svg\" alt=\"Open In Colab\"/></a>"
      ]
    },
    {
      "cell_type": "markdown",
      "source": [
        "# Problem: Extract Digits of a Number\n",
        "\n",
        "## Question\n",
        "Given an integer `nums`, extract all of its digits and store them in a list.  \n",
        "Example:  \n",
        "- Input: `4562`  \n",
        "- Output: `[2, 6, 5, 4]`\n",
        "\n",
        "---\n",
        "\n",
        "## Explanation\n",
        "We need to separate digits from a number one by one starting from the last digit.  \n",
        "- `nums % 10` → gives the last digit  \n",
        "- `nums // 10` → removes the last digit\n",
        "\n",
        "---\n",
        "\n",
        "## Approach\n",
        "1. Initialize an empty list `digits`.  \n",
        "2. While `nums` is not zero:  \n",
        "   - Extract last digit using `% 10`  \n",
        "   - Append it to the list  \n",
        "   - Remove last digit using `// 10`  \n",
        "3. Return the list of digits\n",
        "\n",
        "---\n",
        "\n",
        "## Complexity Analysis\n",
        "\n",
        "| Operation                | Complexity          |\n",
        "|--------------------------|------------------|\n",
        "| Time                     | O(d) → O(log n)  |\n",
        "| Space                    | O(d) → O(log n)  |\n",
        "\n",
        "**Explanation:**  \n",
        "- `d` = number of digits in `nums`  \n",
        "- Each iteration removes one digit → O(d)  \n",
        "- List stores `d` digits → O(d)  \n",
        "- In terms of `n`, `d ≈ log10(n)` → O(log n)\n",
        "\n",
        "---\n",
        "\n",
        "## Edge Cases\n",
        "- `nums = 0` → `[0]`  \n",
        "- Negative numbers → use absolute value if needed\n"
      ],
      "metadata": {
        "id": "CUEFTdo5_B9M"
      }
    },
    {
      "cell_type": "code",
      "source": [
        "# code\n",
        "\n",
        "nums = 4562\n",
        "digits = []\n",
        "\n",
        "while nums > 0:\n",
        "    digit = nums % 10\n",
        "    digits.append(digit)\n",
        "    nums //= 10\n",
        "\n",
        "print(digits)"
      ],
      "metadata": {
        "colab": {
          "base_uri": "https://localhost:8080/"
        },
        "id": "J8_ItJJb9UQe",
        "outputId": "407b2ba5-3a62-414f-db4f-eb34c1bbf447"
      },
      "execution_count": null,
      "outputs": [
        {
          "output_type": "stream",
          "name": "stdout",
          "text": [
            "[2, 6, 5, 4]\n"
          ]
        }
      ]
    }
  ]
}