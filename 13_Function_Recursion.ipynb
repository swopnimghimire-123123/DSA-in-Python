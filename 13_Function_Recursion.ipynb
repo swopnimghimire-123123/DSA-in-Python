{
  "nbformat": 4,
  "nbformat_minor": 0,
  "metadata": {
    "colab": {
      "provenance": [],
      "authorship_tag": "ABX9TyOs7opm6ekeWceKBnTYOaa5",
      "include_colab_link": true
    },
    "kernelspec": {
      "name": "python3",
      "display_name": "Python 3"
    },
    "language_info": {
      "name": "python"
    }
  },
  "cells": [
    {
      "cell_type": "markdown",
      "metadata": {
        "id": "view-in-github",
        "colab_type": "text"
      },
      "source": [
        "<a href=\"https://colab.research.google.com/github/swopnimghimire-123123/DSA-in-Python/blob/main/13_Function_Recursion.ipynb\" target=\"_parent\"><img src=\"https://colab.research.google.com/assets/colab-badge.svg\" alt=\"Open In Colab\"/></a>"
      ]
    },
    {
      "cell_type": "markdown",
      "source": [
        "# Recursion (Function-Based)\n",
        "\n",
        "###`Definition:`\n",
        "Recursion is when a function calls itself directly or indirectly until it reaches a base case (a condition that stops the recursion)."
      ],
      "metadata": {
        "id": "IcG1HMTq5GdC"
      }
    },
    {
      "cell_type": "code",
      "execution_count": null,
      "metadata": {
        "id": "ASQeklJ14fCi"
      },
      "outputs": [],
      "source": [
        "# structure of recursive function\n",
        "def recursive_function(parameters):\n",
        "    # base case (to stop recursion)\n",
        "          if condition:\n",
        "            return some_value\n",
        "\n",
        "          # recursive case (function calls itself)\n",
        "          return recursive_function(modified_parameters)"
      ]
    },
    {
      "cell_type": "code",
      "source": [
        "# Example 1: finding the factorial of a number\n",
        "\n",
        "def factorial(n):\n",
        "  # base case\n",
        "  if n == 0 or n == 1:\n",
        "    return 1\n",
        "\n",
        "  # recursive case\n",
        "  return n * factorial(n-1)\n",
        "\n",
        "print(factorial(5))"
      ],
      "metadata": {
        "colab": {
          "base_uri": "https://localhost:8080/"
        },
        "id": "q_pH7Hbq5uP7",
        "outputId": "c1631843-c98f-49ba-93c2-606849f7e392"
      },
      "execution_count": null,
      "outputs": [
        {
          "output_type": "stream",
          "name": "stdout",
          "text": [
            "120\n"
          ]
        }
      ]
    },
    {
      "cell_type": "markdown",
      "source": [
        "factorial(5) = 5 * factorial(4)\n",
        "\n",
        "factorial(4) = 4 * factorial(3)\n",
        "\n",
        "factorial(3) = 3 * factorial(2)\n",
        "\n",
        "factorial(2) = 2 * factorial(1)\n",
        "\n",
        "factorial(1) = 1  (base case)"
      ],
      "metadata": {
        "id": "rS63E1v76K9d"
      }
    },
    {
      "cell_type": "code",
      "source": [
        "# Example 2: fibonacci numbers\n",
        "\n",
        "def fibonacci(n):\n",
        "  # base case\n",
        "  if n == 0 :\n",
        "    return 0\n",
        "  if n == 1 :\n",
        "    return 1\n",
        "\n",
        "  # recursive case\n",
        "  return fibonacci(n-1) + fibonacci(n-2)\n",
        "\n",
        "print(fibonacci(6))"
      ],
      "metadata": {
        "colab": {
          "base_uri": "https://localhost:8080/"
        },
        "id": "GMqLDvKA6cfn",
        "outputId": "517b741c-314a-4daf-a7ce-449d33698d6d"
      },
      "execution_count": null,
      "outputs": [
        {
          "output_type": "stream",
          "name": "stdout",
          "text": [
            "8\n"
          ]
        }
      ]
    },
    {
      "cell_type": "markdown",
      "source": [
        "fibonacci(6)\n",
        "= fibonacci(5) + fibonacci(4)\n",
        "= (fibonacci(4)+fibonacci(3)) + (fibonacci(3)+fibonacci(2)) ..."
      ],
      "metadata": {
        "id": "5Fi80Jv366El"
      }
    },
    {
      "cell_type": "code",
      "source": [
        "# sum of first n natural numbers\n",
        "\n",
        "def sum_n(n):\n",
        "  # base case\n",
        "  if n == 0 :\n",
        "    return 0\n",
        "\n",
        "  # recursive case\n",
        "  return sum_n(n-1) + n\n",
        "\n",
        "print(sum_n(5))\n"
      ],
      "metadata": {
        "colab": {
          "base_uri": "https://localhost:8080/"
        },
        "id": "4O6FB6876cie",
        "outputId": "27883a06-09a3-4488-d7a0-7ae1c5dc7df1"
      },
      "execution_count": null,
      "outputs": [
        {
          "output_type": "stream",
          "name": "stdout",
          "text": [
            "15\n"
          ]
        }
      ]
    }
  ]
}