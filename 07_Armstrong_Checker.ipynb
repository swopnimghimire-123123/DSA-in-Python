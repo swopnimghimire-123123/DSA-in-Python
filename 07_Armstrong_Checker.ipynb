{
  "nbformat": 4,
  "nbformat_minor": 0,
  "metadata": {
    "colab": {
      "provenance": [],
      "authorship_tag": "ABX9TyPPMVXAjXE9fnW96RtWFv5X",
      "include_colab_link": true
    },
    "kernelspec": {
      "name": "python3",
      "display_name": "Python 3"
    },
    "language_info": {
      "name": "python"
    }
  },
  "cells": [
    {
      "cell_type": "markdown",
      "metadata": {
        "id": "view-in-github",
        "colab_type": "text"
      },
      "source": [
        "<a href=\"https://colab.research.google.com/github/swopnimghimire-123123/DSA-in-Python/blob/main/07_Armstrong_Checker.ipynb\" target=\"_parent\"><img src=\"https://colab.research.google.com/assets/colab-badge.svg\" alt=\"Open In Colab\"/></a>"
      ]
    },
    {
      "cell_type": "markdown",
      "source": [
        "# Problem: Check if a Number is an Armstrong Number\n",
        "\n",
        "## Question\n",
        "Given an integer `n`, check if it is an **Armstrong number**.  \n",
        "An Armstrong number is a number that is equal to the sum of its own digits each raised to the power of the number of digits.  \n",
        "\n",
        "Example:  \n",
        "- Input: `153` → Output: `153 is an Armstrong number`  \n",
        "- Input: `123` → Output: `123 is not an Armstrong number`  \n",
        "\n",
        "---\n",
        "\n",
        "## Explanation\n",
        "To check if a number is an Armstrong number:\n",
        "\n",
        "1. Count the number of digits `d` in `n`.  \n",
        "2. Initialize `total = 0`.  \n",
        "3. Extract each digit using `% 10`.  \n",
        "4. Add `digit^d` to `total`.  \n",
        "5. Remove the last digit using integer division (`// 10`).  \n",
        "6. If `total == n` → Armstrong number, else not.  \n",
        "\n",
        "---\n",
        "\n",
        "## Approach\n",
        "1. Copy the number into a temporary variable `num`.  \n",
        "2. Determine the number of digits using `len(str(n))`.  \n",
        "3. Initialize `total = 0`.  \n",
        "4. While `num > 0`:  \n",
        "   - Extract last digit: `digit = num % 10`  \n",
        "   - Add `digit ** power` to `total`  \n",
        "   - Remove last digit: `num = num // 10`  \n",
        "5. Compare `total` with `n` to determine the result.  \n",
        "\n",
        "---\n",
        "\n",
        "## Complexity Analysis\n",
        "\n",
        "| Operation                | Complexity          |\n",
        "|--------------------------|------------------|\n",
        "| Time                     | O(d) → O(log n)  |\n",
        "| Space                    | O(1)             |\n",
        "\n",
        "**Explanation:**  \n",
        "- `d` = number of digits in `n`  \n",
        "- Loop iterates once per digit → O(d)  \n",
        "- Only a few variables are stored → O(1)  \n",
        "\n",
        "---\n",
        "\n",
        "## Edge Cases\n",
        "- `n = 0` → Armstrong number  \n",
        "- Single-digit numbers → always Armstrong numbers  \n",
        "- Negative numbers → generally **not considered Armstrong numbers**\n"
      ],
      "metadata": {
        "id": "m_M_tWS4I4K4"
      }
    },
    {
      "cell_type": "code",
      "source": [
        "n = 153\n",
        "num = n\n",
        "total = 0\n",
        "power = len(str(n))\n",
        "\n",
        "while num > 0:\n",
        "    reminder = num % 10\n",
        "    total += reminder ** power\n",
        "    num = num // 10\n",
        "\n",
        "if total == n:\n",
        "    print(f\"{n} is an Armstrong number\")\n",
        "else:\n",
        "    print(f\"{n} is not an Armstrong number\")\n"
      ],
      "metadata": {
        "colab": {
          "base_uri": "https://localhost:8080/"
        },
        "id": "sz_oxGlTIQve",
        "outputId": "fb48db18-cea8-4751-fd3c-e9f9afd1f6ee"
      },
      "execution_count": null,
      "outputs": [
        {
          "output_type": "stream",
          "name": "stdout",
          "text": [
            "153 is an Armstrong number\n"
          ]
        }
      ]
    }
  ]
}