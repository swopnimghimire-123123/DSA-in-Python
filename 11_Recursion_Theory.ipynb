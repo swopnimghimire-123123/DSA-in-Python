{
  "nbformat": 4,
  "nbformat_minor": 0,
  "metadata": {
    "colab": {
      "provenance": [],
      "authorship_tag": "ABX9TyNBwNwwIZIfwTJg42yL7Quk",
      "include_colab_link": true
    },
    "kernelspec": {
      "name": "python3",
      "display_name": "Python 3"
    },
    "language_info": {
      "name": "python"
    }
  },
  "cells": [
    {
      "cell_type": "markdown",
      "metadata": {
        "id": "view-in-github",
        "colab_type": "text"
      },
      "source": [
        "<a href=\"https://colab.research.google.com/github/swopnimghimire-123123/DSA-in-Python/blob/main/11_Recursion_Theory.ipynb\" target=\"_parent\"><img src=\"https://colab.research.google.com/assets/colab-badge.svg\" alt=\"Open In Colab\"/></a>"
      ]
    },
    {
      "cell_type": "markdown",
      "source": [
        "# Topic: Recursion in Python\n",
        "\n",
        "## Introduction\n",
        "**Recursion** is a programming technique where a function **calls itself** to solve a smaller instance of the problem.  \n",
        "It is widely used for problems that have **self-similar subproblems**, such as:\n",
        "\n",
        "- Factorial computation  \n",
        "- Fibonacci numbers  \n",
        "- Tree traversals  \n",
        "- Divide and conquer algorithms  \n",
        "\n",
        "---\n",
        "\n",
        "## Key Points About Recursion\n",
        "1. A recursive function must have a **base case** to stop the recursion.  \n",
        "2. Each recursive call typically **reduces the problem size**.  \n",
        "3. Recursive functions use **call stack memory**, which affects space complexity.  \n",
        "\n",
        "---\n",
        "\n",
        "## Example 1: Factorial of a Number\n",
        "\n",
        "### Question\n",
        "Compute the factorial of a non-negative integer `n`.  \n",
        "- Input: `5` → Output: `120`  \n",
        "\n",
        "### Approach\n",
        "1. Base case: `factorial(0) = 1`  \n",
        "2. Recursive case: `factorial(n) = n * factorial(n-1)`  \n",
        "\n",
        "### Complexity Analysis\n",
        "| Operation | Complexity |\n",
        "|-----------|------------|\n",
        "| Time      | O(n)       |\n",
        "| Space     | O(n) (due to call stack) |\n",
        "\n",
        "### Edge Cases\n",
        "- `n = 0` → 1  \n",
        "- Negative numbers → generally not allowed for factorial\n"
      ],
      "metadata": {
        "id": "yCh_shDiR20g"
      }
    },
    {
      "cell_type": "code",
      "execution_count": null,
      "metadata": {
        "colab": {
          "base_uri": "https://localhost:8080/"
        },
        "id": "Ggfz53dkRcix",
        "outputId": "57983545-9d59-4fd5-c300-00f122924210"
      },
      "outputs": [
        {
          "output_type": "stream",
          "name": "stdout",
          "text": [
            "Factorial of 5: 120\n"
          ]
        }
      ],
      "source": [
        "# factorial using recursion\n",
        "def factorial(n):\n",
        "  if n == 0 :\n",
        "    return 1\n",
        "  return n * factorial(n-1)\n",
        "\n",
        "print(\"Factorial of 5:\", factorial(5))"
      ]
    },
    {
      "cell_type": "markdown",
      "source": [
        "## Example 2: Fibonacci Numbers (Recursive)\n",
        "\n",
        "### Question\n",
        "Compute the n-th Fibonacci number using recursion.  \n",
        "- Input: `6` → Output: `8` (sequence: 0,1,1,2,3,5,8)\n",
        "\n",
        "### Approach\n",
        "1. Base cases: `fib(0)=0`, `fib(1)=1`  \n",
        "2. Recursive case: `fib(n) = fib(n-1) + fib(n-2)`  \n",
        "\n",
        "### Complexity Analysis\n",
        "| Operation | Complexity |\n",
        "|-----------|------------|\n",
        "| Time      | O(2^n) (naive recursion) |\n",
        "| Space     | O(n) (call stack) |\n",
        "\n",
        "**Note:** Naive recursion is inefficient. Use **memoization** for O(n) time.\n"
      ],
      "metadata": {
        "id": "ue6XKjhMSaBi"
      }
    },
    {
      "cell_type": "code",
      "source": [
        "def fib(n):\n",
        "  if n == 0 :\n",
        "    return 0\n",
        "  if n == 1:\n",
        "      return 1\n",
        "  return fib(n-1) + fib(n-2)\n",
        "\n",
        "print(\"6th Fibonacci number:\", fib(5))"
      ],
      "metadata": {
        "colab": {
          "base_uri": "https://localhost:8080/"
        },
        "id": "9KpZEqMoSaRB",
        "outputId": "3dfd45de-37d5-4fd4-82c0-2e1c2c56fd9a"
      },
      "execution_count": null,
      "outputs": [
        {
          "output_type": "stream",
          "name": "stdout",
          "text": [
            "6th Fibonacci number: 5\n"
          ]
        }
      ]
    },
    {
      "cell_type": "markdown",
      "source": [
        "## Example 3: Sum of Digits of a Number\n",
        "\n",
        "### Question\n",
        "Find the sum of digits of an integer `n` using recursion.  \n",
        "- Input: `1234` → Output: `10`  \n",
        "\n",
        "### Approach\n",
        "1. Base case: `n = 0` → return 0  \n",
        "2. Recursive case: sum of digits = `(n % 10) + sum_of_digits(n // 10)`  \n",
        "\n",
        "### Complexity Analysis\n",
        "| Operation | Complexity |\n",
        "|-----------|------------|\n",
        "| Time      | O(d) → O(log n) |\n",
        "| Space     | O(d) → O(log n) (call stack) |\n",
        "\n",
        "### Edge Cases\n",
        "- `n = 0` → 0  \n",
        "- Negative numbers → use absolute value\n"
      ],
      "metadata": {
        "id": "SQIlkxn2TMJZ"
      }
    },
    {
      "cell_type": "code",
      "source": [
        "def sum_of_digits(n):\n",
        "  if n == 0:\n",
        "    return 0\n",
        "  return (n % 10) + sum_of_digits(n // 10)\n",
        "\n",
        "print(\"Sum of digits of 1234:\", sum_of_digits(1234))\n"
      ],
      "metadata": {
        "colab": {
          "base_uri": "https://localhost:8080/"
        },
        "id": "J7rxecAJTMYY",
        "outputId": "077376d0-4d76-40e9-bc6f-77fcf8ef321e"
      },
      "execution_count": null,
      "outputs": [
        {
          "output_type": "stream",
          "name": "stdout",
          "text": [
            "Sum of digits of 1234: 10\n"
          ]
        }
      ]
    },
    {
      "cell_type": "markdown",
      "source": [
        "## Recursion Summary\n",
        "- Recursion breaks a problem into **smaller subproblems**.  \n",
        "- Always define a **base case** to avoid infinite recursion.  \n",
        "- Time and space complexity depends on **number of recursive calls** and **call stack usage**.  \n",
        "- Recursive solutions are often elegant but may require optimization using **memoization or iteration** for efficiency.\n"
      ],
      "metadata": {
        "id": "g4-pBFQHTXcJ"
      }
    }
  ]
}