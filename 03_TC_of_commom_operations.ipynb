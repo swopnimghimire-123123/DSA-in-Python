{
  "nbformat": 4,
  "nbformat_minor": 0,
  "metadata": {
    "colab": {
      "provenance": [],
      "authorship_tag": "ABX9TyM0hWIc6hGAG/Tr1By8oIo6",
      "include_colab_link": true
    },
    "kernelspec": {
      "name": "python3",
      "display_name": "Python 3"
    },
    "language_info": {
      "name": "python"
    }
  },
  "cells": [
    {
      "cell_type": "markdown",
      "metadata": {
        "id": "view-in-github",
        "colab_type": "text"
      },
      "source": [
        "<a href=\"https://colab.research.google.com/github/swopnimghimire-123123/DSA-in-Python/blob/main/03_TC_of_commom_operations.ipynb\" target=\"_parent\"><img src=\"https://colab.research.google.com/assets/colab-badge.svg\" alt=\"Open In Colab\"/></a>"
      ]
    },
    {
      "cell_type": "markdown",
      "source": [
        "#  Time Complexity of Common Python Operations and Methods\n",
        "\n",
        "Writing efficient code means understanding how different Python operations scale with input size.  \n",
        "Below we summarize the **time complexity of lists, dictionaries, and sets**, and show practical examples.\n",
        "\n",
        "---\n",
        "\n",
        "## 1. Lists\n",
        "\n",
        "- **Indexing**: `O(1)`  \n",
        "- **Append**: `O(1)` amortized  \n",
        "- **Pop last**: `O(1)`  \n",
        "- **Insert at index**: `O(n)` (shifts elements)  \n",
        "- **Remove element by value**: `O(n)` (search + shift)  \n",
        "- **Search (x in list)**: `O(n)`  \n",
        "- **Iteration**: `O(n)`\n",
        "\n",
        "---\n",
        "\n",
        "## 2. Dictionaries (Hash Maps)\n",
        "\n",
        "- **Insert / Update**: `O(1)` average  \n",
        "- **Access by key**: `O(1)` average  \n",
        "- **Delete by key**: `O(1)` average  \n",
        "- **Search by key**: `O(1)` average  \n",
        "- **Iteration**: `O(n)`\n",
        "\n",
        "---\n",
        "\n",
        "## 3. Sets (Hash Set)\n",
        "\n",
        "- **Insert**: `O(1)` average  \n",
        "- **Delete**: `O(1)` average  \n",
        "- **Search (x in set)**: `O(1)` average  \n",
        "- **Iteration**: `O(n)`  \n",
        "\n",
        "---\n",
        "\n",
        "## Key Insight\n",
        "- Lists are good when you care about order and index-based access.  \n",
        "- Dictionaries and sets are better for **fast lookups**.  \n",
        "\n",
        "---\n"
      ],
      "metadata": {
        "id": "8bk2Viyw2tt3"
      }
    },
    {
      "cell_type": "code",
      "execution_count": null,
      "metadata": {
        "colab": {
          "base_uri": "https://localhost:8080/"
        },
        "id": "MHdvdvFi1vmi",
        "outputId": "95d7d0de-8070-46e4-8ee1-e96fbde39e2d"
      },
      "outputs": [
        {
          "output_type": "stream",
          "name": "stdout",
          "text": [
            "List indexing: 2.6226043701171875e-06\n",
            "List search: 0.01905655860900879\n",
            "Dict access: 3.0994415283203125e-06\n",
            "Dict search: 1.9073486328125e-06\n",
            "Set search: 1.430511474609375e-06\n"
          ]
        }
      ],
      "source": [
        "import time\n",
        "\n",
        "# Timing helper\n",
        "def timer(func, *args):\n",
        "  start = time.time()\n",
        "  func(*args)\n",
        "  return time.time() - start\n",
        "\n",
        "n = 10**6\n",
        "nums = list(range(n))\n",
        "d = {i: i for i in range(n)}\n",
        "s = set(range(n))\n",
        "\n",
        "# 1. List indexing O(1)\n",
        "print(\"List indexing:\", timer(lambda:nums[n//2]))\n",
        "\n",
        "# 2. List search O(n)\n",
        "print(\"List search:\", timer(lambda:n-1 in nums))\n",
        "\n",
        "# 3. Dict access 0(1) average\n",
        "print(\"Dict access:\", timer(lambda:d[n//2]))\n",
        "\n",
        "# 4. Dict search 0(1) average\n",
        "print(\"Dict search:\", timer(lambda:n-1 in d))\n",
        "\n",
        "# 5. Set search O(1) average\n",
        "print(\"Set search:\", timer(lambda:n-1 in s))"
      ]
    },
    {
      "cell_type": "markdown",
      "source": [
        "#  Time Complexity of Common Python Operations\n",
        "\n",
        "Beyond basic list, dict, and set usage, Python provides built-in methods like `sort()`, `reverse()`, and slicing.  \n",
        "Understanding their complexity is key to writing efficient code.\n",
        "\n",
        "---\n",
        "\n",
        "## 1. List Operations\n",
        "\n",
        "- **Sorting (`list.sort()` / `sorted()`)** → `O(n log n)`  \n",
        "  - Python uses **Timsort**, which is efficient on real-world data.  \n",
        "- **Reversing (`list.reverse()`)** → `O(n)`  \n",
        "- **Slicing (`list[a:b]`)** → `O(k)` where `k` = slice length  \n",
        "- **Extend (`list.extend(other)`)** → `O(k)` where `k` = length of `other`  \n",
        "- **Concatenation (`list1 + list2`)** → `O(n + m)`  \n",
        "- **Multiplication (`list * k`)** → `O(nk)`  \n",
        "\n",
        "---\n",
        "\n",
        "## 2. Dictionary Operations\n",
        "\n",
        "- **Keys, values, items view** → `O(1)`  \n",
        "- **Copy (`dict.copy()`)** → `O(n)`  \n",
        "- **Iteration (`for k in dict`)** → `O(n)`  \n",
        "\n",
        "---\n",
        "\n",
        "## 3. Set Operations\n",
        "\n",
        "- **Union (`set1 | set2`)** → `O(len(set1) + len(set2))`  \n",
        "- **Intersection (`set1 & set2`)** → `O(min(len(set1), len(set2)))`  \n",
        "- **Difference (`set1 - set2`)** → `O(len(set1))`  \n",
        "\n",
        "---\n",
        "\n",
        "## 4. Built-in Functions\n",
        "\n",
        "- **`max(list)` / `min(list)`** → `O(n)`  \n",
        "- **`sum(list)`** → `O(n)`  \n",
        "- **`in` operator (list)** → `O(n)`  \n",
        "- **`in` operator (set/dict)** → `O(1)` average  \n",
        "\n",
        "---\n"
      ],
      "metadata": {
        "id": "HCC9QOFm6Be-"
      }
    },
    {
      "cell_type": "code",
      "source": [
        "import time\n",
        "\n",
        "# Timer helper\n",
        "def timer(func, *args):\n",
        "  start = time.time()\n",
        "  func(*args)\n",
        "  return time.time() - start\n",
        "\n",
        "n = 10**6\n",
        "nums = list(range(n,0,-1))\n",
        "\n",
        "# Sorting O(n log n)\n",
        "print(\"list.sort():\", timer(lambda: sorted(nums)))\n",
        "\n",
        "# Reverseing O(n)\n",
        "print(\"list.reverse():\",timer(lambda: list[::-1]))\n",
        "\n",
        "# Slicing O(k)\n",
        "print(\"slicing list:\",timer(lambda:nums[:100000]))\n",
        "\n",
        "# Extend O(k)\n",
        "nums2 = list(range(100000))\n",
        "print(\"extend list:\",timer(lambda: nums.copy().extend(nums2)))\n",
        "\n",
        "# sum O(n)\n",
        "print(\"sum(list):\",timer(lambda: sum(nums)))"
      ],
      "metadata": {
        "colab": {
          "base_uri": "https://localhost:8080/"
        },
        "id": "dD04gyj36Fxl",
        "outputId": "80f87c59-e956-46fe-9415-5d1872068e88"
      },
      "execution_count": null,
      "outputs": [
        {
          "output_type": "stream",
          "name": "stdout",
          "text": [
            "list.sort(): 0.018694162368774414\n",
            "list.reverse(): 4.76837158203125e-06\n",
            "slicing list: 0.0009593963623046875\n",
            "extend list: 0.010476350784301758\n",
            "sum(list): 0.009497880935668945\n"
          ]
        }
      ]
    }
  ]
}