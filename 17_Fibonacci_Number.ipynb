{
  "nbformat": 4,
  "nbformat_minor": 0,
  "metadata": {
    "colab": {
      "provenance": [],
      "authorship_tag": "ABX9TyONeE4U5LfR5eBuJLmjy5kS",
      "include_colab_link": true
    },
    "kernelspec": {
      "name": "python3",
      "display_name": "Python 3"
    },
    "language_info": {
      "name": "python"
    }
  },
  "cells": [
    {
      "cell_type": "markdown",
      "metadata": {
        "id": "view-in-github",
        "colab_type": "text"
      },
      "source": [
        "<a href=\"https://colab.research.google.com/github/swopnimghimire-123123/DSA-in-Python/blob/main/17_Fibonacci_Number.ipynb\" target=\"_parent\"><img src=\"https://colab.research.google.com/assets/colab-badge.svg\" alt=\"Open In Colab\"/></a>"
      ]
    },
    {
      "cell_type": "markdown",
      "source": [
        "# Fibonacci Numbers Using Recursion\n",
        "\n",
        "The **Fibonacci sequence** is defined as:\n",
        "- F(0) = 0\n",
        "- F(1) = 1\n",
        "- For n ≥ 2 → F(n) = F(n-1) + F(n-2)\n",
        "\n",
        "So the sequence goes:  \n",
        "0, 1, 1, 2, 3, 5, 8, 13, ...\n",
        "\n",
        "---\n",
        "\n",
        "### Approach:\n",
        "1. **Base Case**\n",
        "   - If `n == 0` → return 0\n",
        "   - If `n == 1` → return 1  \n",
        "\n",
        "2. **Recursive Case**\n",
        "   - Compute `F(n-1)` and `F(n-2)` recursively, then sum them.\n",
        "\n",
        "---\n",
        "\n",
        "### Example\n",
        "- Input: `n = 5`  \n",
        "- Output: `5`  \n",
        "(Since the sequence is 0, 1, 1, 2, 3, 5)\n",
        "\n",
        "---\n",
        "\n",
        "###  Time Complexity\n",
        "- Each call branches into **two recursive calls** (except base cases).  \n",
        "- This forms a binary recursion tree with height `n`.  \n",
        "- **Time Complexity: O(2^n)** → exponential, very slow for large `n`.\n",
        "\n",
        "---\n",
        "\n",
        "###  Space Complexity\n",
        "- Maximum depth of recursion = `n` (for the leftmost branch).  \n",
        "- **Space Complexity: O(n)**  \n",
        "\n",
        "---\n",
        "\n",
        "###  Edge Cases\n",
        "1. `n = 0` → returns 0  \n",
        "2. `n = 1` → returns 1  \n",
        "3. Large `n` → highly inefficient, leads to **Time Limit Exceeded (TLE)** due to repeated recomputation.\n",
        "\n",
        "---\n",
        "\n",
        "###  Dry Run (n = 4)\n",
        "\n",
        "fib(4)\n",
        "\n",
        "= fib(3) + fib(2)\n",
        "\n",
        "= (fib(2) + fib(1)) + (fib(1) + fib(0))\n",
        "\n",
        "= ((fib(1) + fib(0)) + 1) + (1 + 0)\n",
        "\n",
        "= ((1 + 0) + 1) + (1 + 0)\n",
        "\n",
        "= (1 + 1) + 1\n",
        "\n",
        "= 3"
      ],
      "metadata": {
        "id": "2rf9Zhc8RbTr"
      }
    },
    {
      "cell_type": "code",
      "execution_count": null,
      "metadata": {
        "colab": {
          "base_uri": "https://localhost:8080/"
        },
        "id": "VGGVvpTIQki3",
        "outputId": "1a7f562c-c8bd-4038-ce94-c33b037e9397"
      },
      "outputs": [
        {
          "output_type": "stream",
          "name": "stdout",
          "text": [
            "F(5): 5\n",
            "F(7): 13\n"
          ]
        }
      ],
      "source": [
        "# Fibonacci using recursion\n",
        "def fib(n):\n",
        "    # Base case\n",
        "    if n == 0:\n",
        "        return 0\n",
        "    if n == 1:\n",
        "        return 1\n",
        "\n",
        "    # Recursive case\n",
        "    return fib(n-1) + fib(n-2)\n",
        "\n",
        "# Test cases\n",
        "print(\"F(5):\", fib(5))\n",
        "print(\"F(7):\", fib(7))"
      ]
    }
  ]
}