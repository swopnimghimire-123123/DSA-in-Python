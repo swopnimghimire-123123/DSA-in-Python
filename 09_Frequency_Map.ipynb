{
  "nbformat": 4,
  "nbformat_minor": 0,
  "metadata": {
    "colab": {
      "provenance": [],
      "authorship_tag": "ABX9TyP5X2p2r9WKRuE5d1LgjasQ",
      "include_colab_link": true
    },
    "kernelspec": {
      "name": "python3",
      "display_name": "Python 3"
    },
    "language_info": {
      "name": "python"
    }
  },
  "cells": [
    {
      "cell_type": "markdown",
      "metadata": {
        "id": "view-in-github",
        "colab_type": "text"
      },
      "source": [
        "<a href=\"https://colab.research.google.com/github/swopnimghimire-123123/DSA-in-Python/blob/main/09_Frequency_Map.ipynb\" target=\"_parent\"><img src=\"https://colab.research.google.com/assets/colab-badge.svg\" alt=\"Open In Colab\"/></a>"
      ]
    },
    {
      "cell_type": "markdown",
      "source": [
        "# Problem: Count Frequency of Elements in a List\n",
        "\n",
        "## Question\n",
        "Given a list of integers `nums`, count the frequency of each element.  \n",
        "Example:  \n",
        "- Input: `[5,6,7,7,2,1,9,111,1,1,5,1,2,4,6,2,0]`  \n",
        "- Output: `{5: 2, 6: 2, 7: 2, 2: 3, 1: 4, 9: 1, 111: 1, 4: 1, 0: 1}`  \n",
        "\n",
        "---\n",
        "\n",
        "## Explanation\n",
        "We can use a **dictionary (hash map)** to store frequencies:  \n",
        "\n",
        "1. **Method 1 (Standard Loop):**  \n",
        "   - Iterate through each element  \n",
        "   - If it exists in the dictionary, increment its value  \n",
        "   - Otherwise, add it with value 1  \n",
        "\n",
        "2. **Method 2 (Pythonic `get()` method):**  \n",
        "   - Use `dict.get(key, default)` to simplify the code  \n",
        "   - Increment the frequency directly in a single line  \n",
        "\n",
        "---\n",
        "\n",
        "## Approach\n",
        "1. Initialize an empty dictionary `frequency_map`.  \n",
        "2. For each element `num` in `nums`:  \n",
        "   - Method 1: Check if `num` exists in dictionary → increment or add  \n",
        "   - Method 2: Use `hash_map[num] = hash_map.get(num, 0) + 1`  \n",
        "3. Return the dictionary of frequencies  \n",
        "\n",
        "---\n",
        "\n",
        "## Complexity Analysis\n",
        "\n",
        "| Method                  | Time Complexity      | Space Complexity |\n",
        "|-------------------------|-------------------|----------------|\n",
        "| Method 1 (loop + if)    | O(n)              | O(d)           |\n",
        "| Method 2 (get method)   | O(n)              | O(d)           |\n",
        "\n",
        "**Explanation:**  \n",
        "- `n` = number of elements in the list  \n",
        "- `d` = number of distinct elements  \n",
        "- Both methods iterate through the list once → O(n)  \n",
        "- Dictionary stores all distinct elements → O(d)  \n",
        "\n",
        "---\n",
        "\n",
        "## Edge Cases\n",
        "- Empty list → `{}`  \n",
        "- All elements same → single key in dictionary  \n",
        "- Negative numbers → handled normally in dictionary keys\n"
      ],
      "metadata": {
        "id": "lV7iWMKqMwIx"
      }
    },
    {
      "cell_type": "code",
      "source": [
        "nums = [5,6,7,7,2,1,9,111,1,1,5,1,2,4,6,2,0]\n",
        "\n",
        "# Method 1\n",
        "frequency_map = {}\n",
        "for num in nums:\n",
        "    if num in frequency_map:\n",
        "        frequency_map[num] += 1\n",
        "    else:\n",
        "        frequency_map[num] = 1\n",
        "print(\"Method 1:\", frequency_map)\n",
        "\n",
        "# Method 2 (Pythonic)\n",
        "hash_map = {}\n",
        "n = len(nums)\n",
        "for i in range(n):\n",
        "    hash_map[nums[i]] = hash_map.get(nums[i], 0) + 1\n",
        "print(\"Method 2:\", hash_map)\n"
      ],
      "metadata": {
        "colab": {
          "base_uri": "https://localhost:8080/"
        },
        "id": "g-6HOVnqOd1q",
        "outputId": "e2c53938-937a-4388-c2bd-da263d2e7ad8"
      },
      "execution_count": null,
      "outputs": [
        {
          "output_type": "stream",
          "name": "stdout",
          "text": [
            "Method 1: {5: 2, 6: 2, 7: 2, 2: 3, 1: 4, 9: 1, 111: 1, 4: 1, 0: 1}\n",
            "Method 2: {5: 2, 6: 2, 7: 2, 2: 3, 1: 4, 9: 1, 111: 1, 4: 1, 0: 1}\n"
          ]
        }
      ]
    }
  ]
}