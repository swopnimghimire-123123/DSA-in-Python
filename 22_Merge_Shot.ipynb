{
  "nbformat": 4,
  "nbformat_minor": 0,
  "metadata": {
    "colab": {
      "provenance": [],
      "authorship_tag": "ABX9TyN7hr+Lk26xv4ses90kM2xr",
      "include_colab_link": true
    },
    "kernelspec": {
      "name": "python3",
      "display_name": "Python 3"
    },
    "language_info": {
      "name": "python"
    }
  },
  "cells": [
    {
      "cell_type": "markdown",
      "metadata": {
        "id": "view-in-github",
        "colab_type": "text"
      },
      "source": [
        "<a href=\"https://colab.research.google.com/github/swopnimghimire-123123/DSA-in-Python/blob/main/22_Merge_Shot.ipynb\" target=\"_parent\"><img src=\"https://colab.research.google.com/assets/colab-badge.svg\" alt=\"Open In Colab\"/></a>"
      ]
    },
    {
      "cell_type": "markdown",
      "metadata": {
        "id": "361ba055"
      },
      "source": [
        "# Merge Sort\n",
        "\n",
        "Merge Sort is a popular and efficient sorting algorithm that follows the divide-and-conquer paradigm. Here's a breakdown of how it works:\n",
        "\n",
        "## How it Works\n",
        "\n",
        "Merge Sort recursively divides the input array into smaller subarrays until each subarray contains only one element (a single element is considered sorted). Then, it repeatedly merges these sorted subarrays to produce new sorted subarrays until the entire array is sorted.\n",
        "\n",
        "The core of Merge Sort lies in the **merge** operation. The merge function takes two sorted subarrays and combines them into a single sorted array. It does this by comparing the elements from both subarrays and picking the smaller element to place into the merged array. This process continues until all elements from both subarrays are included in the merged array.\n",
        "\n",
        "## Steps\n",
        "\n",
        "1. **Divide:** The unsorted list is divided into two halves (approximately equal size).\n",
        "2. **Conquer:** Each half is recursively sorted using Merge Sort.\n",
        "3. **Combine:** The two sorted halves are merged into a single sorted list.\n",
        "\n",
        "## Example\n",
        "\n",
        "Let's sort the array `[38, 27, 43, 3, 9, 82, 10]` using Merge Sort:\n",
        "\n",
        "1. **Divide:**\n",
        "   `[38, 27, 43]` and `[3, 9, 82, 10]`\n",
        "\n",
        "2. **Conquer (Recursive Sorting):**\n",
        "   - Sorting `[38, 27, 43]` leads to `[27, 38, 43]`\n",
        "   - Sorting `[3, 9, 82, 10]` leads to `[3, 9, 10, 82]`\n",
        "\n",
        "3. **Combine (Merging):**\n",
        "   Merge `[27, 38, 43]` and `[3, 9, 10, 82]` to get the final sorted array `[3, 9, 10, 27, 38, 43, 82]`.\n",
        "\n",
        "## Time and Space Complexity\n",
        "\n",
        "- **Time Complexity:** Merge Sort has a time complexity of **O(n log n)** in all cases (best, average, and worst). This is because the dividing and merging steps both take linear time (O(n)), and the recursion depth is logarithmic (log n).\n",
        "- **Space Complexity:** Merge Sort has a space complexity of **O(n)** due to the need for a temporary array during the merge operation.\n",
        "\n",
        "## Advantages\n",
        "\n",
        "- **Stable Sort:** Merge Sort is a stable sorting algorithm, meaning that it preserves the relative order of equal elements.\n",
        "- **Guaranteed Performance:** It has a consistent time complexity of O(n log n), regardless of the input data.\n",
        "\n",
        "## Disadvantages\n",
        "\n",
        "- **Requires Extra Space:** It requires additional space for the temporary merging array.\n",
        "- **Not In-Place:** It is not an in-place sorting algorithm, as it needs the extra space.\n",
        "\n",
        "## Applications\n",
        "\n",
        "Merge Sort is widely used in various applications, including:\n",
        "\n",
        "- Sorting large datasets\n",
        "- Implementing external sorting\n",
        "- Parallel sorting\n",
        "- In the implementation of other algorithms like quicksort (in some cases)\n",
        "\n",
        "In summary, Merge Sort is a powerful and reliable sorting algorithm with consistent performance, making it a good choice for many sorting tasks."
      ]
    },
    {
      "cell_type": "code",
      "source": [
        "def merge_array(left, right):\n",
        "  result = []\n",
        "  i, j = 0,0\n",
        "  n, m = len(left), len(right)\n",
        "  while i < n and j < m:\n",
        "    if left[i]<=right[j]:\n",
        "      result.append(left[i])\n",
        "      i+=1\n",
        "    else:\n",
        "      result.append(right[j])\n",
        "      j+=1\n",
        "  if i<n:\n",
        "    while i<n:\n",
        "      result.append(left[i])\n",
        "      i+=1\n",
        "  if j<m:\n",
        "    while j<m:\n",
        "      result.append(right[j])\n",
        "      j+=1\n",
        "  return result\n",
        "\n",
        "def merge_sort(arr):\n",
        "  if len(arr)<=1:\n",
        "    return arr\n",
        "  mid = int(len(arr)/2)\n",
        "  left = arr[:mid]\n",
        "  right = arr[mid:]\n",
        "  left = merge_sort(left)\n",
        "  right = merge_sort(right)\n",
        "  return merge_array(left, right)\n",
        "\n",
        "merge_sort([3,4,5,6,1,2,0,9,5])"
      ],
      "metadata": {
        "colab": {
          "base_uri": "https://localhost:8080/"
        },
        "id": "K9A-L-94rWS8",
        "outputId": "55d74c6c-001a-4051-e99b-8c62ade02177"
      },
      "execution_count": 3,
      "outputs": [
        {
          "output_type": "execute_result",
          "data": {
            "text/plain": [
              "[0, 1, 2, 3, 4, 5, 5, 6, 9]"
            ]
          },
          "metadata": {},
          "execution_count": 3
        }
      ]
    }
  ]
}