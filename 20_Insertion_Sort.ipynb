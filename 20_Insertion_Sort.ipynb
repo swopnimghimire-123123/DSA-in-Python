{
  "nbformat": 4,
  "nbformat_minor": 0,
  "metadata": {
    "colab": {
      "provenance": [],
      "authorship_tag": "ABX9TyNbbfxMdqJu5XaIFl/MHIjI",
      "include_colab_link": true
    },
    "kernelspec": {
      "name": "python3",
      "display_name": "Python 3"
    },
    "language_info": {
      "name": "python"
    }
  },
  "cells": [
    {
      "cell_type": "markdown",
      "metadata": {
        "id": "view-in-github",
        "colab_type": "text"
      },
      "source": [
        "<a href=\"https://colab.research.google.com/github/swopnimghimire-123123/DSA-in-Python/blob/main/20_Insertion_Sort.ipynb\" target=\"_parent\"><img src=\"https://colab.research.google.com/assets/colab-badge.svg\" alt=\"Open In Colab\"/></a>"
      ]
    },
    {
      "cell_type": "markdown",
      "source": [
        "# Insertion Sort in Python\n",
        "\n",
        "##  Intuition\n",
        "Insertion Sort works the way we sort cards in our hand:  \n",
        "- Take elements one by one from the **unsorted part**.  \n",
        "- Insert each into its **correct position** in the **sorted part**.  \n",
        "- Repeat until all elements are sorted.\n",
        "\n",
        "This is efficient for **small arrays** or arrays that are **already nearly sorted**.\n",
        "\n",
        "---\n",
        "\n",
        "##  Dry Run Example\n",
        "\n",
        "Array: [12, 11, 13, 5, 6]\n",
        "\n",
        "- Pass 1: Pick 11, place before 12 → [11, 12, 13, 5, 6]  \n",
        "- Pass 2: Pick 13, already in place → [11, 12, 13, 5, 6]  \n",
        "- Pass 3: Pick 5, insert at start → [5, 11, 12, 13, 6]  \n",
        "- Pass 4: Pick 6, insert between 5 and 11 → [5, 6, 11, 12, 13]  \n",
        "\n",
        "Final Sorted Array = [5, 6, 11, 12, 13]\n",
        "\n",
        "---\n",
        "\n",
        "##  Complexity Analysis\n",
        "\n",
        "- **Time Complexity**  \n",
        "  - Worst Case: O(n²) → when array is reverse sorted  \n",
        "  - Best Case: O(n) → when array is already sorted (only one comparison per element)  \n",
        "  - Average Case: O(n²)\n",
        "\n",
        "- **Space Complexity**  \n",
        "  - O(1) → in-place sorting\n",
        "\n",
        "- **Stable?**  \n",
        "  -  Yes, maintains relative order of equal elements\n",
        "\n",
        "- **Adaptive?**  \n",
        "  -  Yes, performs faster if input is partially sorted\n",
        "\n",
        "---\n",
        "\n",
        "##  Edge Cases\n",
        "1. Empty array → returns empty  \n",
        "2. Single element → already sorted  \n",
        "3. Already sorted array → best-case O(n)  \n",
        "4. Reverse sorted array → worst-case O(n²)  \n",
        "5. Array with duplicates → stable sort (order preserved)\n",
        "\n",
        "---\n"
      ],
      "metadata": {
        "id": "WcyV8CLmrf6X"
      }
    },
    {
      "cell_type": "code",
      "source": [
        "def insertion_sort(arr):\n",
        "    n = len(arr)\n",
        "    for i in range(1, n):  # start from index 1\n",
        "        key = arr[i]\n",
        "        j = i - 1\n",
        "        while j >= 0 and arr[j] > key:\n",
        "            arr[j+1] = arr[j]  # shift right\n",
        "            j -= 1\n",
        "        arr[j+1] = key\n",
        "    return arr\n",
        "\n",
        "nums = [12, 11, 13, 5, 6]\n",
        "print(\"Unsorted:\", nums)\n",
        "print(\"Sorted:\", insertion_sort(nums.copy()))\n"
      ],
      "metadata": {
        "colab": {
          "base_uri": "https://localhost:8080/"
        },
        "id": "SzWqwn0qs9pU",
        "outputId": "0579bddd-7de1-4f47-b348-3b8a6093ceac"
      },
      "execution_count": null,
      "outputs": [
        {
          "output_type": "stream",
          "name": "stdout",
          "text": [
            "Unsorted: [12, 11, 13, 5, 6]\n",
            "Sorted: [5, 6, 11, 12, 13]\n"
          ]
        }
      ]
    },
    {
      "cell_type": "code",
      "source": [
        "def insertion_sort_optimized(arr):\n",
        "    n = len(arr)\n",
        "    for i in range(1, n):\n",
        "        key = arr[i]\n",
        "        j = i - 1\n",
        "        moved = False\n",
        "        while j >= 0 and arr[j] > key:\n",
        "            arr[j+1] = arr[j]\n",
        "            j -= 1\n",
        "            moved = True\n",
        "        arr[j+1] = key\n",
        "        if not moved:  # array already sorted so far\n",
        "            break\n",
        "    return arr\n",
        "\n",
        "nums = [12, 11, 13, 5, 6]\n",
        "print(\"Optimized Sort:\", insertion_sort_optimized(nums.copy()))\n"
      ],
      "metadata": {
        "colab": {
          "base_uri": "https://localhost:8080/"
        },
        "id": "Kj3Jtow-s9sw",
        "outputId": "6abe9c2a-7e29-40a2-f8db-3bc22ae5a588"
      },
      "execution_count": null,
      "outputs": [
        {
          "output_type": "stream",
          "name": "stdout",
          "text": [
            "Optimized Sort: [11, 12, 13, 5, 6]\n"
          ]
        }
      ]
    },
    {
      "cell_type": "code",
      "execution_count": null,
      "metadata": {
        "colab": {
          "base_uri": "https://localhost:8080/",
          "height": 1000
        },
        "id": "fCB8ex8prAN0",
        "outputId": "e0523eed-7e65-49f8-f35b-11a7f57ec984"
      },
      "outputs": [
        {
          "output_type": "display_data",
          "data": {
            "text/plain": [
              "<Figure size 640x480 with 1 Axes>"
            ],
            "image/png": "[encoded data removed]"
          },
          "metadata": {}
        },
        {
          "output_type": "display_data",
          "data": {
            "text/plain": [
              "<Figure size 640x480 with 1 Axes>"
            ],
            "image/png": "[encoded data removed]"
          },
          "metadata": {}
        },
        {
          "output_type": "display_data",
          "data": {
            "text/plain": [
              "<Figure size 640x480 with 1 Axes>"
            ],
            "image/png": "[encoded data removed]"
          },
          "metadata": {}
        },
        {
          "output_type": "display_data",
          "data": {
            "text/plain": [
              "<Figure size 640x480 with 1 Axes>"
            ],
            "image/png": "[encoded data removed]"
          },
          "metadata": {}
        }
      ],
      "source": [
        "import matplotlib.pyplot as plt\n",
        "import time\n",
        "\n",
        "def visualize_insertion_sort(arr):\n",
        "    n = len(arr)\n",
        "    for i in range(1, n):\n",
        "        key = arr[i]\n",
        "        j = i - 1\n",
        "        while j >= 0 and arr[j] > key:\n",
        "            arr[j+1] = arr[j]\n",
        "            j -= 1\n",
        "        arr[j+1] = key\n",
        "\n",
        "        # Visualization\n",
        "        plt.bar(range(len(arr)), arr, color='lightcoral')\n",
        "        plt.title(f\"Pass {i}\")\n",
        "        plt.show()\n",
        "        time.sleep(0.5)\n",
        "\n",
        "nums = [12, 11, 13, 5, 6]\n",
        "visualize_insertion_sort(nums.copy())\n"
      ]
    }
  ]
}